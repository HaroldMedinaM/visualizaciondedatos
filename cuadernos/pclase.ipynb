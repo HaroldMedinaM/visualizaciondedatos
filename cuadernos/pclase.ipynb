{
 "cells": [
    {
   "cell_type": "markdown",
   "metadata": {
    "toc": true
   },
   "source": [
    "<h1>Informe interactivo acerca del Covid-19 en Bogotá<span class=\"tocSkip\"></span></h1>\n",
    "<div class=\"toc\"><ul class=\"toc-item\"><li><span><a href=\"#Creación-de-Widgets\" data-toc-modified-id=\"Creación-de-Widgets-1\"><span class=\"toc-item-num\">1&nbsp;&nbsp;</span>Creación de Widgets</a></span></li><li><span><a href=\"#Mostrar-código-HTML-en-la-salida-de-una-celda\" data-toc-modified-id=\"Mostrar-código-HTML-en-la-salida-de-una-celda-2\"><span class=\"toc-item-num\">2&nbsp;&nbsp;</span>Mostrar código HTML en la salida de una celda</a></span></li><li><span><a href=\"#Integración-de-la-información\" data-toc-modified-id=\"Integración-de-la-información-3\"><span class=\"toc-item-num\">3&nbsp;&nbsp;</span>Integración de la información</a></span></li><li><span><a href=\"#interactive\" data-toc-modified-id=\"interactive-4\"><span class=\"toc-item-num\">4&nbsp;&nbsp;</span><code>interactive</code></a></span></li><li><span><a href=\"#Módulo-para-estudiantes\" data-toc-modified-id=\"Módulo-para-estudiantes-5\"><span class=\"toc-item-num\">5&nbsp;&nbsp;</span>Módulo para estudiantes</a></span></li></ul></div>"
   ]
  },
  {
   "cell_type": "markdown",
   "metadata": {},
   "source": [
    "# Informe interactivo acerca del Covid-19 en Bogotá\n",
    "\n",
    "Usaremos la información de las bases de datos de la alcaldía para generar un escritorio interactivo simple en jupyter. Al final crearemos un módulo que tenga funciones para visualizar todos los widgets que creamos:"
   ]
  },
  {
   "cell_type": "markdown",
   "metadata": {},
   "source": [
    "## Creación de Widgets\n",
    "\n",
    "Con lo que sabemos creamos tres widgets interactivos que obtienen información directamente de la página de la alcaldía:"
   ]
  },
  {
   "cell_type": "code",
   "execution_count": null,
   "metadata": {},
   "outputs": [],
   "source": [
    "import pandas as pd\n",
    "import matplotlib.pyplot as plt\n",
    "from ipywidgets import interact, interactive\n",
    "import ipywidgets as widgets\n",
    "import numpy as np\n",
    "\n",
    "url=\"https://datosabiertos.bogota.gov.co/dataset/44eacdb7-a535-45ed-be03-16dbbea6f6da/resource/b64ba3c4-9e41-41b8-b3fd-2da21d627558/download/osb_enftransm-covid-1907082020-.csv\""
   ]
  },
  {
   "cell_type": "code",
   "execution_count": null,
   "metadata": {},
   "outputs": [],
   "source": [
    "df=pd.read_csv(url,encoding='latin1')\n",
    "df"
   ]
  },
  {
   "cell_type": "code",
   "execution_count": null,
   "metadata": {},
   "outputs": [],
   "source": [
    "df[\"Estado\"].unique()"
   ]
  },
  {
   "cell_type": "code",
   "execution_count": null,
   "metadata": {},
   "outputs": [],
   "source": [
    "df[\"Estado\"]=[i.replace(\" \",\"\") for i in df[\"Estado\"]]# Armando una lista que corrige el error de digitación"
   ]
  },
  {
   "cell_type": "code",
   "execution_count": null,
   "metadata": {},
   "outputs": [],
   "source": [
    "df[\"Estado\"].unique()"
   ]
  },
  {
   "cell_type": "code",
   "execution_count": null,
   "metadata": {},
   "outputs": [],
   "source": [
    "df2=df[df[\"Localidad de residencia\"]==\"Kennedy\"].groupby(\"Estado\").count()\n",
    "df2"
   ]
  },
  {
   "cell_type": "code",
   "execution_count": null,
   "metadata": {},
   "outputs": [],
   "source": [
    "def f(localidad):\n",
    "    df2=df[df[\"Localidad de residencia\"]==localidad].groupby(\"Estado\").count()\n",
    "    ind=df2.index\n",
    "    data=df2[\"Edad\"]\n",
    "    fig, ax = plt.subplots(figsize=(6, 5), subplot_kw=dict(aspect=\"equal\")) # configuramos figure\n",
    "    wedges, texts, autotexts = ax.pie(data,wedgeprops=dict(width=0.8), autopct=\"%0.2f %%\") #Creamos una torta y guardamos lo que el paquete genera\n",
    "    pct=[ind[i]+\"  {:.2%}\".format(data[i]/sum(data)) for i in range(len(data))] # Un vector que guarda el porcentaje de cada localidad\n",
    "    plt.setp(autotexts, size=8, weight=\"bold\",color=\"w\") #Configuramos los porcentajes que aparecen en la torta\n",
    "    ax.legend(wedges, pct,\n",
    "          title=\"Tipo de caso\",\n",
    "          loc=\"center left\",\n",
    "          bbox_to_anchor=(1, 0, 0.5, 1)) #Definimos las leyendas del gráfico, observe que usamos el vector pct\n",
    "    ax.set_title(\"Distribución de casos en \"+localidad+\n",
    "                 \"\\n\\n\"+str(sum(data))+\" casos confirmados\"+\"\\n\") #Título, mostramos la cantidad total de casos por localidad\n",
    "\n",
    "    plt.show()\n",
    "    return"
   ]
  },
  {
   "cell_type": "code",
   "execution_count": null,
   "metadata": {},
   "outputs": [],
   "source": [
    "f(\"Chapinero\")"
   ]
  },
  {
   "cell_type": "code",
   "execution_count": null,
   "metadata": {},
   "outputs": [],
   "source": [
    "def f(localidad):\n",
    "    df2=df[df[\"Localidad de residencia\"]==localidad].groupby(\"Estado\").count()\n",
    "    ind=df2.index\n",
    "    data=df2[\"Edad\"]\n",
    "    fig, ax = plt.subplots(figsize=(6, 5), subplot_kw=dict(aspect=\"equal\")) # configuramos figure\n",
    "    wedges, texts, autotexts = ax.pie(data,wedgeprops=dict(width=0.8), autopct=\"%0.2f %%\") #Creamos una torta y guardamos lo que el paquete genera\n",
    "    pct=[ind[i]+\"  {:.2%}\".format(data[i]/sum(data)) for i in range(len(data))] # Un vector que guarda el porcentaje de cada localidad\n",
    "    plt.setp(autotexts, size=8, weight=\"bold\",color=\"w\") #Configuramos los porcentajes que aparecen en la torta\n",
    "    ax.legend(wedges, pct,\n",
    "          title=\"Tipo de caso\",\n",
    "          loc=\"center left\",\n",
    "          bbox_to_anchor=(1, 0, 0.5, 1)) #Definimos las leyendas del gráfico, observe que usamos el vector pct\n",
    "    ax.set_title(\"Distribución de casos en \"+localidad+\n",
    "                 \"\\n\\n\"+str(sum(data))+\" casos confirmados\"+\"\\n\") #Título, mostramos la cantidad total de casos por localidad\n",
    "\n",
    "    plt.show()\n",
    "    return\n",
    "Liloc=list(df[\"Localidad de residencia\"].unique()) # Extraemos la lista de localidades\n",
    "interact(f, localidad=widgets.Dropdown(options=Liloc,value=\"Usme\", \n",
    "                                       description=\"Localidad:\", \n",
    "                                       disabled=False,))"
   ]
  },
  {
   "cell_type": "markdown",
   "metadata": {},
   "source": [
    "Una torta más complicada, inspirada en el ejemplo de la galería de matplotlib:\n",
    "\n",
    "[Labeling a pie and a donut](https://matplotlib.org/3.1.0/gallery/pie_and_polar_charts/pie_and_donut_labels.html#sphx-glr-gallery-pie-and-polar-charts-pie-and-donut-labels-py)\n",
    "\n",
    "![imagen](https://matplotlib.org/3.1.0/_images/sphx_glr_pie_and_donut_labels_002.png)\n"
   ]
  },
  {
   "cell_type": "code",
   "execution_count": null,
   "metadata": {},
   "outputs": [],
   "source": [
    "def f(localidad):\n",
    "    df2=df[df[\"Localidad de residencia\"]==localidad].groupby(\"Estado\").count()\n",
    "    ind=df2.index\n",
    "    data=df2[\"Edad\"]\n",
    "    fig, ax = plt.subplots(figsize=(6, 5), subplot_kw=dict(aspect=\"equal\"))\n",
    "    wedges, texts = ax.pie(data,wedgeprops=dict(width=0.5), \n",
    "                                      startangle=-40)\n",
    "    pct=[\"{:.2%}\".format(da/sum(data)) for da in data]\n",
    "    bbox_props = dict(boxstyle=\"square,pad=0.3\", fc=\"w\", ec=\"k\", lw=0.72)\n",
    "    kw = dict(arrowprops=dict(arrowstyle=\"-\"),\n",
    "              bbox=bbox_props, zorder=0, va=\"center\")\n",
    "    \n",
    "    for i, p in enumerate(wedges):\n",
    "        ang = (p.theta2 - p.theta1)/2. + p.theta1\n",
    "        y = np.sin(np.deg2rad(ang))        \n",
    "        x = np.cos(np.deg2rad(ang))\n",
    "        horizontalalignment = {-1: \"right\", 1: \"left\"}[int(np.sign(x))]\n",
    "        connectionstyle = \"angle,angleA=0,angleB={}\".format(ang)\n",
    "        kw[\"arrowprops\"].update({\"connectionstyle\": connectionstyle})\n",
    "        ax.annotate(ind[i]+\"  \"+pct[i], xy=(x, y),\n",
    "                    xytext=(1.35*np.sign(x), 1.4*y),\n",
    "                    horizontalalignment=horizontalalignment, **kw)\n",
    "    ax.set_title(\"Distribución de casos en \"+localidad+\n",
    "                 \"\\n\\n\"+str(sum(data))+\" casos confirmados\"+\"\\n\")\n",
    "\n",
    "    plt.show()\n",
    "    return\n",
    "df2=df.groupby(\"Localidad de residencia\").count().index\n",
    "interact(f, localidad=widgets.Dropdown(options=df2,value=\"Usme\", \n",
    "                                       description=\"Localidad:\", \n",
    "                                       disabled=False,))"
   ]
  },
  {
   "cell_type": "markdown",
   "metadata": {},
   "source": [
    "Sin embargo, la idea es crear un módulo con más información,  hagamos un par de gráficos para completar nuestro módulo, iniciemos con un gráfico que nos permita visualizar la distribución de casos confirmados por localidades en Bogotá:"
   ]
  },
  {
   "cell_type": "code",
   "execution_count": null,
   "metadata": {},
   "outputs": [],
   "source": [
    "Casos=df.groupby(\"Localidad de residencia\").count()\n",
    "Casos=Casos.sort_values(\"Edad\")\n",
    "fig, ax = plt.subplots(figsize=(10, 8))\n",
    "# Una función para poner la cantidad de casos\n",
    "def autolabel(rects):\n",
    "    for rect in rects:\n",
    "        width = rect.get_width()\n",
    "        ax.annotate('{}'.format(width),\n",
    "                    xy=(width,rect.get_y() + rect.get_height() / 2),\n",
    "                    xytext=(3,0),  # 3 points vertical offset\n",
    "                    textcoords=\"offset points\",\n",
    "                    ha='left', va='center')\n",
    "\n",
    "rects=ax.barh(Casos.index,Casos[\"Edad\"])\n",
    "ax.set(xlim=(0, max(Casos[\"Edad\"])+2000))\n",
    "plt.title(\"En total hay \"+str(sum(Casos[\"Edad\"]))+\" en Bogotá\")\n",
    "autolabel(rects)\n",
    "plt.show()"
   ]
  },
  {
   "cell_type": "markdown",
   "metadata": {},
   "source": [
    "Ahora hagamos otro módulo interactivo que nos permita graficar por edad:"
   ]
  },
  {
   "cell_type": "code",
   "execution_count": null,
   "metadata": {},
   "outputs": [],
   "source": [
    "DF10=df[df[\"Edad\"]>=10]\n",
    "DF10[DF10[\"Edad\"]<=40]\n",
    "df[df[\"Edad\"]>=10][df[df[\"Edad\"]>=10][\"Edad\"]<=40]"
   ]
  },
  {
   "cell_type": "code",
   "execution_count": null,
   "metadata": {},
   "outputs": [],
   "source": [
    "def filtroedad(edades):    \n",
    "    Edad_Filtro=df[df[\"Edad\"]>=edades[0]][df[df[\"Edad\"]>=edades[0]][\"Edad\"]<=edades[1]]\n",
    "    Casos=Edad_Filtro.groupby(\"Localidad de residencia\").count()\n",
    "    Casos=Casos.sort_values(\"Edad\")\n",
    "    fig, ax = plt.subplots(figsize=(10, 8))\n",
    "    # Una función para poner la cantidad de casos\n",
    "    def autolabel(rects):\n",
    "        for rect in rects:\n",
    "            width = rect.get_width()\n",
    "            ax.annotate('{}'.format(width),\n",
    "                        xy=(width,rect.get_y() + rect.get_height() / 2),\n",
    "                        xytext=(3,0),  # 3 points vertical offset\n",
    "                        textcoords=\"offset points\",\n",
    "                        ha='left', va='center')\n",
    "\n",
    "    rects=ax.barh(Casos.index,Casos[\"Edad\"])\n",
    "    ax.set(xlim=(0, max(Casos[\"Edad\"])*1.12))\n",
    "    plt.title(\"En total hay \"+str(sum(Casos[\"Edad\"]))+\" en Bogotá\")\n",
    "    autolabel(rects)\n",
    "    plt.show()\n",
    "    return\n",
    "wid=widgets.IntRangeSlider(\n",
    "    value=[10, 70],\n",
    "    min=0,\n",
    "    max=120,\n",
    "    step=1,\n",
    "    description='Edades:',\n",
    "    orientation='horizontal',\n",
    "    readout=True,\n",
    "    readout_format='d',\n",
    "    continue_update=False,\n",
    ")\n",
    "interact(filtroedad,edades=wid)"
   ]
  },
  {
   "cell_type": "markdown",
   "metadata": {},
   "source": [
    "## Mostrar código HTML en la salida de una celda\n",
    "\n",
    "Ahora usaremos nuestros tres módulos para genera una página dentro de Jupyter para crear un escritorio interactivo. Antes, veamos una herramienta que nos permite usar código HTML en la salida de las celdas de Python. \n",
    "\n",
    "Referencias para usar código HTML: [w3schools](https://www.w3schools.com/html/default.asp)"
   ]
  },
  {
   "cell_type": "code",
   "execution_count": null,
   "metadata": {},
   "outputs": [],
   "source": [
    "from IPython.core.display import HTML, display"
   ]
  },
  {
   "cell_type": "code",
   "execution_count": null,
   "metadata": {},
   "outputs": [],
   "source": [
    "display(HTML(\"La ecuación más bella del mundo es la identidad de Euler: $e^{i\\pi}+1=0$\"))"
   ]
  },
  {
   "cell_type": "code",
   "execution_count": null,
   "metadata": {},
   "outputs": [],
   "source": [
    "display(HTML(\"<h2>La ecuación más bella del mundo</h2> <p>la identidad de Euler: $e^{i\\pi}+1=0$</p>\"))"
   ]
  },
  {
   "cell_type": "code",
   "execution_count": null,
   "metadata": {},
   "outputs": [],
   "source": [
    "display(HTML(\"<p><strong>Hola como estan</strong></p>\"+\n",
    "             \"<p>un texto sencillo en HTML</p>\"))"
   ]
  },
  {
   "cell_type": "markdown",
   "metadata": {},
   "source": [
    "Ahora incluyamos un vídeo:"
   ]
  },
  {
   "cell_type": "code",
   "execution_count": null,
   "metadata": {},
   "outputs": [],
   "source": [
    "display(HTML(\"<div style=background-color:lightblue> <h2>La ecuación más bella del mundo</h2> <p>la identidad de Euler: $e^{i\\pi}+1=0$</p></div>\"))"
   ]
  },
  {
   "cell_type": "code",
   "execution_count": null,
   "metadata": {},
   "outputs": [],
   "source": [
    "display(HTML(\"<div style=background-color:lightblue><h2>La ecuación más bella del mundo</h2>\"+\n",
    "             \" <p>la identidad de Euler: $e^{i\\pi}+1=0$</p><p></p>\"+\n",
    "            '<iframe width=\"560\" height=\"315\" src=\"https://www.youtube.com/embed/2RC1NMF4uE0\" frameborder=\"0\" allow=\"accelerometer; autoplay; encrypted-media; gyroscope; picture-in-picture\" allowfullscreen></iframe></div>'))"
   ]
  },
  {
   "cell_type": "markdown",
   "metadata": {},
   "source": [
    "## Integración de la información\n",
    "\n",
    "Ahora la idea es que usemos esta herramienta para generar un dashboard que integre los tres elementos interactivos definidos arriba:"
   ]
  },
  {
   "cell_type": "code",
   "execution_count": null,
   "metadata": {},
   "outputs": [],
   "source": [
    "def encabezado():\n",
    "    display(HTML('<h2>Casos distribuidos por localidades en Bogotá</h2>'+\n",
    "                '<p>El siguiente gráfico muestra las distribuciones por localidades en Bogotá:</p>'))\n",
    "    Casos=df.groupby(\"Localidad de residencia\").count()\n",
    "    Casos=Casos.sort_values(\"Edad\")\n",
    "    fig, ax = plt.subplots(figsize=(10, 8))\n",
    "    # Una función para poner la cantidad de casos\n",
    "    def autolabel(rects):\n",
    "        for rect in rects:\n",
    "            width = rect.get_width()\n",
    "            ax.annotate('{}'.format(width),\n",
    "                        xy=(width,rect.get_y() + rect.get_height() / 2),\n",
    "                        xytext=(3,0),  # 3 points vertical offset\n",
    "                        textcoords=\"offset points\",\n",
    "                        ha='left', va='center')\n",
    "\n",
    "    rects=ax.barh(Casos.index,Casos[\"Edad\"])\n",
    "    ax.set(xlim=(0, max(Casos[\"Edad\"])+2000))\n",
    "    plt.title(\"En total hay \"+str(sum(Casos[\"Edad\"]))+\" en Bogotá\")\n",
    "    autolabel(rects)\n",
    "    plt.show()\n",
    "    "
   ]
  },
  {
   "cell_type": "code",
   "execution_count": null,
   "metadata": {},
   "outputs": [],
   "source": [
    "encabezado()"
   ]
  },
  {
   "cell_type": "markdown",
   "metadata": {},
   "source": [
    "Ahora integremos lo demás:"
   ]
  },
  {
   "cell_type": "code",
   "execution_count": null,
   "metadata": {},
   "outputs": [],
   "source": [
    "def f(localidad):\n",
    "    display(HTML('<h2>Proporción de casos en cada una de las localidades en Bogotá</h2>'+\n",
    "                '<p>Seleccione la localidad e identifique cuántos casos hay en cada Localidad Bogotana:</p>'))\n",
    "  \n",
    "\n",
    "    df2=df[df[\"Localidad de residencia\"]==localidad].groupby(\"Estado\").count()\n",
    "    ind=df2.index\n",
    "    data=df2[\"Edad\"]\n",
    "    fig, ax = plt.subplots(figsize=(6, 5), subplot_kw=dict(aspect=\"equal\"))\n",
    "    wedges, texts = ax.pie(data,wedgeprops=dict(width=0.5), \n",
    "                                      startangle=-40)\n",
    "    pct=[\"{:.2%}\".format(da/sum(data)) for da in data]\n",
    "    bbox_props = dict(boxstyle=\"square,pad=0.3\", fc=\"w\", ec=\"k\", lw=0.72)\n",
    "    kw = dict(arrowprops=dict(arrowstyle=\"-\"),\n",
    "              bbox=bbox_props, zorder=0, va=\"center\")\n",
    "    \n",
    "    for i, p in enumerate(wedges):\n",
    "        ang = (p.theta2 - p.theta1)/2. + p.theta1\n",
    "        y = np.sin(np.deg2rad(ang))        \n",
    "        x = np.cos(np.deg2rad(ang))\n",
    "        horizontalalignment = {-1: \"right\", 1: \"left\"}[int(np.sign(x))]\n",
    "        connectionstyle = \"angle,angleA=0,angleB={}\".format(ang)\n",
    "        kw[\"arrowprops\"].update({\"connectionstyle\": connectionstyle})\n",
    "        ax.annotate(ind[i]+\"  \"+pct[i], xy=(x, y),\n",
    "                    xytext=(1.35*np.sign(x), 1.4*y),\n",
    "                    horizontalalignment=horizontalalignment, **kw)\n",
    "    ax.set_title(\"Distribución de casos en \"+localidad+\n",
    "                 \"\\n\\n\"+str(sum(data))+\" casos confirmados\"+\"\\n\")\n",
    "\n",
    "    plt.show()\n",
    "    return\n",
    "Liloc=list(df[\"Localidad de residencia\"].unique()) # Extraemos la lista de localidades\n",
    "\n",
    "interact(f, localidad=widgets.Dropdown(options=Liloc,value=\"Usme\", \n",
    "                                       description=\"Localidad:\", \n",
    "                                       disabled=False,))"
   ]
  },
  {
   "cell_type": "markdown",
   "metadata": {},
   "source": [
    "## `interactive`\n",
    "Usamos el comando `interactive` para guardar mi widget y mostrarlo cuando se requiera:"
   ]
  },
  {
   "cell_type": "code",
   "execution_count": null,
   "metadata": {},
   "outputs": [],
   "source": [
    "def f(localidad):\n",
    "    df2=df[df[\"Localidad de residencia\"]==localidad].groupby(\"Estado\").count()\n",
    "    ind=df2.index\n",
    "    data=df2[\"Edad\"]\n",
    "    fig, ax = plt.subplots(figsize=(6, 5), subplot_kw=dict(aspect=\"equal\"))\n",
    "    wedges, texts = ax.pie(data,wedgeprops=dict(width=0.5), \n",
    "                                      startangle=-40)\n",
    "    pct=[\"{:.2%}\".format(da/sum(data)) for da in data]\n",
    "    bbox_props = dict(boxstyle=\"square,pad=0.3\", fc=\"w\", ec=\"k\", lw=0.72)\n",
    "    kw = dict(arrowprops=dict(arrowstyle=\"-\"),\n",
    "              bbox=bbox_props, zorder=0, va=\"center\")\n",
    "    \n",
    "    for i, p in enumerate(wedges):\n",
    "        ang = (p.theta2 - p.theta1)/2. + p.theta1\n",
    "        y = np.sin(np.deg2rad(ang))        \n",
    "        x = np.cos(np.deg2rad(ang))\n",
    "        horizontalalignment = {-1: \"right\", 1: \"left\"}[int(np.sign(x))]\n",
    "        connectionstyle = \"angle,angleA=0,angleB={}\".format(ang)\n",
    "        kw[\"arrowprops\"].update({\"connectionstyle\": connectionstyle})\n",
    "        ax.annotate(ind[i]+\"  \"+pct[i], xy=(x, y),\n",
    "                    xytext=(1.35*np.sign(x), 1.4*y),\n",
    "                    horizontalalignment=horizontalalignment, **kw)\n",
    "    ax.set_title(\"Distribución de casos en \"+localidad+\n",
    "                 \"\\n\\n\"+str(sum(data))+\" casos confirmados\"+\"\\n\")\n",
    "\n",
    "    plt.show()\n",
    "    return\n",
    "Liloc=list(df[\"Localidad de residencia\"].unique()) # Extraemos la lista de localidades\n",
    "\n",
    "W1=interactive(f, localidad=widgets.Dropdown(options=Liloc,value=\"Usme\", \n",
    "                                       description=\"Localidad:\", \n",
    "                                       disabled=False,))"
   ]
  },
  {
   "cell_type": "code",
   "execution_count": null,
   "metadata": {},
   "outputs": [],
   "source": [
    "display(HTML('<h2>Proporción de casos en cada una de las localidades en Bogotá</h2>'+\n",
    "                '<p>Seleccione la localidad e identifique cuántos casos hay en cada Localidad Bogotana:</p>'))\n",
    "  \n",
    "display(W1)"
   ]
  },
  {
   "cell_type": "code",
   "execution_count": null,
   "metadata": {},
   "outputs": [],
   "source": [
    "def encabezado():\n",
    "    display(HTML('<h2>Casos distribuidos por localidades en Bogotá</h2>'+\n",
    "                '<p>El siguiente gráfico muestra las distribuciones por localidades en Bogotá:</p>'))\n",
    "    Casos=df.groupby(\"Localidad de residencia\").count()\n",
    "    Casos=Casos.sort_values(\"Edad\")\n",
    "    fig, ax = plt.subplots(figsize=(10, 8))\n",
    "    # Una función para poner la cantidad de casos\n",
    "    def autolabel(rects):\n",
    "        for rect in rects:\n",
    "            width = rect.get_width()\n",
    "            ax.annotate('{}'.format(width),\n",
    "                        xy=(width,rect.get_y() + rect.get_height() / 2),\n",
    "                        xytext=(3,0),  # 3 points vertical offset\n",
    "                        textcoords=\"offset points\",\n",
    "                        ha='left', va='center')\n",
    "\n",
    "    rects=ax.barh(Casos.index,Casos[\"Edad\"])\n",
    "    ax.set(xlim=(0, max(Casos[\"Edad\"])+2000))\n",
    "    plt.title(\"En total hay \"+str(sum(Casos[\"Edad\"]))+\" en Bogotá\")\n",
    "    autolabel(rects)\n",
    "    plt.show()\n",
    "    display(HTML('<h2>Proporción de casos en cada una de las localidades en Bogotá</h2>'+\n",
    "                '<p>Seleccione la localidad e identifique cuántos casos hay en cada Localidad Bogotana:</p>'))\n",
    "  \n",
    "    display(W1)\n",
    "    "
   ]
  },
  {
   "cell_type": "code",
   "execution_count": null,
   "metadata": {},
   "outputs": [],
   "source": [
    "encabezado()"
   ]
  },
  {
   "cell_type": "markdown",
   "metadata": {},
   "source": [
    "Integremos el otro widget:"
   ]
  },
  {
   "cell_type": "code",
   "execution_count": null,
   "metadata": {},
   "outputs": [],
   "source": [
    "def filtroedad(edades):    \n",
    "    Edad_Filtro=df[df[\"Edad\"]>=edades[0]][df[df[\"Edad\"]>=edades[0]][\"Edad\"]<=edades[1]]\n",
    "    Casos=Edad_Filtro.groupby(\"Localidad de residencia\").count()\n",
    "    Casos=Casos.sort_values(\"Edad\")\n",
    "    fig, ax = plt.subplots(figsize=(10, 8))\n",
    "    # Una función para poner la cantidad de casos\n",
    "    def autolabel(rects):\n",
    "        for rect in rects:\n",
    "            width = rect.get_width()\n",
    "            ax.annotate('{}'.format(width),\n",
    "                        xy=(width,rect.get_y() + rect.get_height() / 2),\n",
    "                        xytext=(3,0),  # 3 points vertical offset\n",
    "                        textcoords=\"offset points\",\n",
    "                        ha='left', va='center')\n",
    "\n",
    "    rects=ax.barh(Casos.index,Casos[\"Edad\"])\n",
    "    ax.set(xlim=(0, max(Casos[\"Edad\"])*1.12))\n",
    "    plt.title(\"En total hay \"+str(sum(Casos[\"Edad\"]))+\" en Bogotá\")\n",
    "    autolabel(rects)\n",
    "    plt.show()\n",
    "    return\n",
    "wid=widgets.IntRangeSlider(\n",
    "    value=[10, 70],\n",
    "    min=0,\n",
    "    max=120,\n",
    "    step=1,\n",
    "    description='Edades:',\n",
    "    orientation='horizontal',\n",
    "    readout=True,\n",
    "    readout_format='d',\n",
    ")\n",
    "W2=interactive(filtroedad,edades=wid)"
   ]
  },
  {
   "cell_type": "markdown",
   "metadata": {},
   "source": [
    "Actualizamos el encabezado:"
   ]
  },
  {
   "cell_type": "code",
   "execution_count": null,
   "metadata": {},
   "outputs": [],
   "source": [
    "def encabezado():\n",
    "    display(HTML('<h2>Casos distribuidos por localidades en Bogotá</h2>'+\n",
    "                '<p>El siguiente gráfico muestra las distribuciones por localidades en Bogotá:</p>'))\n",
    "    Casos=df.groupby(\"Localidad de residencia\").count()\n",
    "    Casos=Casos.sort_values(\"Edad\")\n",
    "    fig, ax = plt.subplots(figsize=(10, 8))\n",
    "    # Una función para poner la cantidad de casos\n",
    "    def autolabel(rects):\n",
    "        for rect in rects:\n",
    "            width = rect.get_width()\n",
    "            ax.annotate('{}'.format(width),\n",
    "                        xy=(width,rect.get_y() + rect.get_height() / 2),\n",
    "                        xytext=(3,0),  # 3 points vertical offset\n",
    "                        textcoords=\"offset points\",\n",
    "                        ha='left', va='center')\n",
    "\n",
    "    rects=ax.barh(Casos.index,Casos[\"Edad\"])\n",
    "    ax.set(xlim=(0, max(Casos[\"Edad\"])+2000))\n",
    "    plt.title(\"En total hay \"+str(sum(Casos[\"Edad\"]))+\" en Bogotá\")\n",
    "    autolabel(rects)\n",
    "    plt.show()\n",
    "    display(HTML('<h2>Proporción de casos en cada una de las localidades en Bogotá</h2>'+\n",
    "                '<p>Seleccione la localidad e identifique cuántos casos hay en cada Localidad Bogotana:</p>'))\n",
    "  \n",
    "    display(W1)\n",
    "    display(HTML('<h2>Distribución por edades</h2>'+\n",
    "                '<p>Ahora veamos como se dsitribuyen por edades:</p>'))\n",
    "  \n",
    "    display(W2)\n",
    "    \n",
    "    return"
   ]
  },
  {
   "cell_type": "code",
   "execution_count": null,
   "metadata": {},
   "outputs": [],
   "source": [
    "encabezado()"
   ]
  },
  {
   "cell_type": "code",
   "execution_count": null,
   "metadata": {},
   "outputs": [],
   "source": [
    "%%javascript\n",
    "IPython.OutputArea.auto_scroll_threshold = 9999;"
   ]
  },
  {
   "cell_type": "code",
   "execution_count": null,
   "metadata": {},
   "outputs": [],
   "source": [
    "encabezado()"
   ]
  },
  {
   "cell_type": "markdown",
   "metadata": {},
   "source": [
    "## Módulo para estudiantes\n",
    "\n",
    "Finalmente, creemos un módulo:"
   ]
  },
  {
   "cell_type": "code",
   "execution_count": null,
   "metadata": {},
   "outputs": [],
   "source": [
    "import pandas as pd\n",
    "import matplotlib.pyplot as plt\n",
    "from ipywidgets import interact, interactive\n",
    "import ipywidgets as widgets\n",
    "import numpy as np\n",
    "from IPython.core.display import HTML, display\n",
    "\n",
    "url=\"https://datosabiertos.bogota.gov.co/dataset/44eacdb7-a535-45ed-be03-16dbbea6f6da/resource/b64ba3c4-9e41-41b8-b3fd-2da21d627558/download/osb_enftransm-covid-19.csv\"\n",
    "df=pd.read_csv(url,encoding='latin1')\n",
    "df[\"Estado\"]=[i.replace(\" \",\"\") for i in df[\"Estado\"]]\n",
    "\n",
    "### Primer Widget\n",
    "\n",
    "def f(localidad):\n",
    "    df2=df[df[\"Localidad de residencia\"]==localidad].groupby(\"Estado\").count()\n",
    "    ind=df2.index\n",
    "    data=df2[\"Edad\"]\n",
    "    fig, ax = plt.subplots(figsize=(6, 5), subplot_kw=dict(aspect=\"equal\"))\n",
    "    wedges, texts = ax.pie(data,wedgeprops=dict(width=0.5), \n",
    "                                      startangle=-40)\n",
    "    pct=[\"{:.2%}\".format(da/sum(data)) for da in data]\n",
    "    bbox_props = dict(boxstyle=\"square,pad=0.3\", fc=\"w\", ec=\"k\", lw=0.72)\n",
    "    kw = dict(arrowprops=dict(arrowstyle=\"-\"),\n",
    "              bbox=bbox_props, zorder=0, va=\"center\")\n",
    "    \n",
    "    for i, p in enumerate(wedges):\n",
    "        ang = (p.theta2 - p.theta1)/2. + p.theta1\n",
    "        y = np.sin(np.deg2rad(ang))        \n",
    "        x = np.cos(np.deg2rad(ang))\n",
    "        horizontalalignment = {-1: \"right\", 1: \"left\"}[int(np.sign(x))]\n",
    "        connectionstyle = \"angle,angleA=0,angleB={}\".format(ang)\n",
    "        kw[\"arrowprops\"].update({\"connectionstyle\": connectionstyle})\n",
    "        ax.annotate(ind[i]+\"  \"+pct[i], xy=(x, y),\n",
    "                    xytext=(1.35*np.sign(x), 1.4*y),\n",
    "                    horizontalalignment=horizontalalignment, **kw)\n",
    "    ax.set_title(\"Distribución de casos en \"+localidad+\n",
    "                 \"\\n\\n\"+str(sum(data))+\" casos confirmados\"+\"\\n\")\n",
    "\n",
    "    plt.show()\n",
    "    return\n",
    "Liloc=list(df[\"Localidad de residencia\"].unique()) # Extraemos la lista de localidades\n",
    "\n",
    "W1=interactive(f, localidad=widgets.Dropdown(options=Liloc,value=\"Usme\", \n",
    "                                       description=\"Localidad:\", \n",
    "                                       disabled=False,))\n",
    "\n",
    "### Segundo Widget\n",
    "\n",
    "def filtroedad(edades):    \n",
    "    Edad_Filtro=df[df[\"Edad\"]>=edades[0]][df[df[\"Edad\"]>=edades[0]][\"Edad\"]<=edades[1]]\n",
    "    Casos=Edad_Filtro.groupby(\"Localidad de residencia\").count()\n",
    "    Casos=Casos.sort_values(\"Edad\")\n",
    "    fig, ax = plt.subplots(figsize=(10, 8))\n",
    "    # Una función para poner la cantidad de casos\n",
    "    def autolabel(rects):\n",
    "        for rect in rects:\n",
    "            width = rect.get_width()\n",
    "            ax.annotate('{}'.format(width),\n",
    "                        xy=(width,rect.get_y() + rect.get_height() / 2),\n",
    "                        xytext=(3,0),  # 3 points vertical offset\n",
    "                        textcoords=\"offset points\",\n",
    "                        ha='left', va='center')\n",
    "\n",
    "    rects=ax.barh(Casos.index,Casos[\"Edad\"])\n",
    "    ax.set(xlim=(0, max(Casos[\"Edad\"])*1.12))\n",
    "    plt.title(\"En total hay \"+str(sum(Casos[\"Edad\"]))+\" en Bogotá\")\n",
    "    autolabel(rects)\n",
    "    plt.show()\n",
    "    return\n",
    "wid=widgets.IntRangeSlider(\n",
    "    value=[10, 70],\n",
    "    min=0,\n",
    "    max=120,\n",
    "    step=1,\n",
    "    description='Edades:',\n",
    "    orientation='horizontal',\n",
    "    readout=True,\n",
    "    readout_format='d',\n",
    ")\n",
    "W2=interactive(filtroedad,edades=wid)\n",
    "\n",
    "\n",
    "#### Dashboard\n",
    "\n",
    "def miprimerdashboard():\n",
    "    display(HTML(             '<h2>Casos distribuidos por localidades en Bogotá</h2>'+\n",
    "                '<p>El siguiente gráfico muestra las distribuciones por localidades en Bogotá:</p>'))\n",
    "    Casos=df.groupby(\"Localidad de residencia\").count()\n",
    "    Casos=Casos.sort_values(\"Edad\")\n",
    "    fig, ax = plt.subplots(figsize=(10, 8))\n",
    "    # Una función para poner la cantidad de casos\n",
    "    def autolabel(rects):\n",
    "        for rect in rects:\n",
    "            width = rect.get_width()\n",
    "            ax.annotate('{}'.format(width),\n",
    "                        xy=(width,rect.get_y() + rect.get_height() / 2),\n",
    "                        xytext=(3,0),  # 3 points vertical offset\n",
    "                        textcoords=\"offset points\",\n",
    "                        ha='left', va='center')\n",
    "\n",
    "    rects=ax.barh(Casos.index,Casos[\"Edad\"])\n",
    "    ax.set(xlim=(0, max(Casos[\"Edad\"])+2000))\n",
    "    plt.title(\"En total hay \"+str(sum(Casos[\"Edad\"]))+\" en Bogotá\")\n",
    "    autolabel(rects)\n",
    "    plt.show()\n",
    "    display(HTML('<h2>Proporción de casos en cada una de las localidades en Bogotá</h2>'+\n",
    "                '<p>Seleccione la localidad e identifique cuántos casos hay en cada Localidad Bogotana:</p>'))\n",
    "  \n",
    "    display(W1)\n",
    "    display(HTML('<h2>Distribución por edades</h2>'+\n",
    "                '<p>Ahora veamos como se dsitribuyen por edades:</p>'))\n",
    "  \n",
    "    display(W2)\n",
    "    \n",
    "    return"
   ]
  },
  {
   "cell_type": "code",
   "execution_count": null,
   "metadata": {},
   "outputs": [],
   "source": [
    "miprimerdashboard()"
   ]
  }
 ],
 "metadata": {
  "kernelspec": {
   "display_name": "Python 3",
   "language": "python",
   "name": "python3"
  },
  "language_info": {
   "codemirror_mode": {
    "name": "ipython",
    "version": 3
   },
   "file_extension": ".py",
   "mimetype": "text/x-python",
   "name": "python",
   "nbconvert_exporter": "python",
   "pygments_lexer": "ipython3",
   "version": "3.7.6"
  },
  "toc": {
   "base_numbering": 1,
   "nav_menu": {},
   "number_sections": true,
   "sideBar": true,
   "skip_h1_title": true,
   "title_cell": "Informe interactivo acerca del Covid-19 en Bogotá",
   "title_sidebar": "Informe interactivo",
   "toc_cell": true,
   "toc_position": {},
   "toc_section_display": true,
   "toc_window_display": false
  }
 },
 "nbformat": 4,
 "nbformat_minor": 4
}
