{
 "cells": [
  {
   "cell_type": "markdown",
   "metadata": {
    "toc": true
   },
   "source": [
    "<h1>Matplotlib - Gráficos en Python<span class=\"tocSkip\"></span></h1>\n",
    "<div class=\"toc\"><ul class=\"toc-item\"><li><span><a href=\"#Introducción\" data-toc-modified-id=\"Introducción-1\"><span class=\"toc-item-num\">1&nbsp;&nbsp;</span>Introducción</a></span></li><li><span><a href=\"#¿Cómo-funciona?\" data-toc-modified-id=\"¿Cómo-funciona?-2\"><span class=\"toc-item-num\">2&nbsp;&nbsp;</span>¿Cómo funciona?</a></span></li><li><span><a href=\"#Partes-de-una-figura\" data-toc-modified-id=\"Partes-de-una-figura-3\"><span class=\"toc-item-num\">3&nbsp;&nbsp;</span>Partes de una figura</a></span></li><li><span><a href=\"#Diferentes-tipos-de-gráficos\" data-toc-modified-id=\"Diferentes-tipos-de-gráficos-4\"><span class=\"toc-item-num\">4&nbsp;&nbsp;</span>Diferentes tipos de gráficos</a></span><ul class=\"toc-item\"><li><span><a href=\"#El-commando-plt.plot()\" data-toc-modified-id=\"El-commando-plt.plot()-4.1\"><span class=\"toc-item-num\">4.1&nbsp;&nbsp;</span>El commando <code>plt.plot()</code></a></span></li><li><span><a href=\"#Gráficos-de-dispersión\" data-toc-modified-id=\"Gráficos-de-dispersión-4.2\"><span class=\"toc-item-num\">4.2&nbsp;&nbsp;</span>Gráficos de dispersión</a></span></li><li><span><a href=\"#Gráficos-para-variables-categóricas\" data-toc-modified-id=\"Gráficos-para-variables-categóricas-4.3\"><span class=\"toc-item-num\">4.3&nbsp;&nbsp;</span>Gráficos para variables categóricas</a></span></li><li><span><a href=\"#Graficador-de-funciones\" data-toc-modified-id=\"Graficador-de-funciones-4.4\"><span class=\"toc-item-num\">4.4&nbsp;&nbsp;</span>Graficador de funciones</a></span></li><li><span><a href=\"#Texto-en-las-gráficas\" data-toc-modified-id=\"Texto-en-las-gráficas-4.5\"><span class=\"toc-item-num\">4.5&nbsp;&nbsp;</span>Texto en las gráficas</a></span></li></ul></li><li><span><a href=\"#Backends\" data-toc-modified-id=\"Backends-5\"><span class=\"toc-item-num\">5&nbsp;&nbsp;</span>Backends</a></span></li><li><span><a href=\"#Un-pendiente-de-la-clase-anterior\" data-toc-modified-id=\"Un-pendiente-de-la-clase-anterior-6\"><span class=\"toc-item-num\">6&nbsp;&nbsp;</span>Un pendiente de la clase anterior</a></span></li></ul></div>"
   ]
  },
  {
   "cell_type": "markdown",
   "metadata": {},
   "source": [
    "## Introducción\n",
    "\n",
    "El paquete para construir gráficos por excelencia en Python es [Matplotlib](https://matplotlib.org/3.2.2/index.html), una de las librerías más usadas para crear todo tipo de visualizaciones  . Para nosotros es muy importante manejar esta herramienta ya que en múltiples ocasiones la dificultad de muchas explicaciones se resuelven fácilmente con un buen gráfico. En este cuaderno veremos algunos componentes básicos de la graficación con Matplotlib, las partes del gráfico, la definición de `figure()`, unas configuraciones simples y algunas personalizaciones elementales. "
   ]
  },
  {
   "cell_type": "markdown",
   "metadata": {},
   "source": [
    "## ¿Cómo funciona?\n",
    "\n",
    "Matplotlib grafica sus datos sobre una instancia llamada `Figure`, cada una de estas contendrá uno o más `Axes` (un área en la que los puntos tienen coordenadas). Usualmente se utiliza la interfaz [pyplot](https://matplotlib.org/3.2.2/api/pyplot_summary.html) basada en algunos estilos y comandos de MATLAB. \n",
    "\n",
    "Veamos un sencillo ejemplo:"
   ]
  },
  {
   "cell_type": "code",
   "execution_count": null,
   "metadata": {},
   "outputs": [],
   "source": [
    "import matplotlib.pyplot as plt\n",
    "import numpy as np\n",
    "%matplotlib inline\n",
    "fig, ax = plt.subplots()  # Creamos una figura con un sistema de ejes.\n",
    "ax.plot([1, 2, 3, 4], [1, 4, 2, 3])  # Pintamos algunos datos."
   ]
  },
  {
   "cell_type": "markdown",
   "metadata": {},
   "source": [
    "Sin necesidad de fijar los ejes de una figura podemos hacer el mismo gráfico:"
   ]
  },
  {
   "cell_type": "code",
   "execution_count": null,
   "metadata": {},
   "outputs": [],
   "source": [
    "plt.plot([1, 2, 3, 4], [1, 4, 2, 3]) "
   ]
  },
  {
   "cell_type": "markdown",
   "metadata": {},
   "source": [
    "## Partes de una figura\n",
    "\n",
    "Veamos los componentes de una figura de Matplotlib:\n",
    "\n",
    "![figure](https://matplotlib.org/3.2.2/_images/anatomy.png)\n",
    "\n",
    "*Tomado de [https://matplotlib.org/3.2.2/tutorials/introductory/usage.html#sphx-glr-tutorials-introductory-usage-py](https://matplotlib.org/3.2.2/tutorials/introductory/usage.html#sphx-glr-tutorials-introductory-usage-py)*"
   ]
  },
  {
   "cell_type": "markdown",
   "metadata": {},
   "source": [
    "Sin necesidad de definir nuevas figuras veamos un ejemplo con algunos elementos descritos en la figura:"
   ]
  },
  {
   "cell_type": "code",
   "execution_count": null,
   "metadata": {
    "scrolled": false
   },
   "outputs": [],
   "source": [
    "np.linspace(0, 10, 101)"
   ]
  },
  {
   "cell_type": "code",
   "execution_count": null,
   "metadata": {},
   "outputs": [],
   "source": [
    "np.sin(x)"
   ]
  },
  {
   "cell_type": "code",
   "execution_count": null,
   "metadata": {},
   "outputs": [],
   "source": [
    "x = np.linspace(0, 10, 101)\n",
    "\n",
    "plt.plot(x, np.tan(x), label='sin(x)')\n",
    "plt.legend()\n",
    "plt.title(\"Una figura simple\")\n",
    "plt.show()"
   ]
  },
  {
   "cell_type": "code",
   "execution_count": null,
   "metadata": {},
   "outputs": [],
   "source": [
    "from ipywidgets import interact\n",
    "def graficadoradefincionestrigonometricas(t):\n",
    "    x=np.linspace(-4*np.pi,4*np.pi,500)\n",
    "    y=eval(t)\n",
    "    plt.plot(x,y,label=t)\n",
    "    plt.legend()\n",
    "    return\n",
    "\n",
    "from numpy import *\n",
    "\n",
    "lista=[\"sin(x)\",\"cos(x)\",\"tan(x)\"]\n",
    "\n",
    "interact(graficadoradefincionestrigonometricas,t=lista)"
   ]
  },
  {
   "cell_type": "markdown",
   "metadata": {},
   "source": [
    "No obstante, recordemos que podemos usar instancias para expresar tanto a la figura como los ejes sobre la figura:"
   ]
  },
  {
   "cell_type": "code",
   "execution_count": null,
   "metadata": {},
   "outputs": [],
   "source": [
    "fig = plt.figure()\n",
    "ax = fig.add_subplot(111)\n",
    "ax.plot([1, 2, 3, 4], [10, 20, 25, 30], color='lightblue', linewidth=3)\n",
    "ax.scatter([0.3, 3.8, 1.2, 2.5], [11, 25, 9, 26], color='darkgreen')\n",
    "ax.set_xlim(-2, 6)\n",
    "plt.show()"
   ]
  },
  {
   "cell_type": "markdown",
   "metadata": {},
   "source": [
    "En este ejemplo utilizamos `plt.figure()` para definir la figura y `fig.add_subplot(111)` para crear la *'zona de dibujo'*. Definamos sobre una misma figura varias zonas de dibujo:"
   ]
  },
  {
   "cell_type": "code",
   "execution_count": null,
   "metadata": {},
   "outputs": [],
   "source": [
    "x=np.linspace(0,10,100)\n",
    "fig = plt.figure()\n",
    "\n",
    "ax = fig.add_subplot(221)\n",
    "\n",
    "ax.plot([1, 2, 3, 4], [10, 20, 25, 30], color='lightblue', linewidth=3,label=\"línea\")\n",
    "ax.scatter([0.3, 3.8, 1.2, 2.5], [11, 25, 9, 26], color='darkgreen', marker='^',label=\"marker\")\n",
    "ax.legend()\n",
    "plt.title(\"Primera 'zona de dibujo'\")\n",
    "\n",
    "ax2 = fig.add_subplot(222)\n",
    "\n",
    "ax2.plot(x, x, label='línea')\n",
    "ax2.legend()\n",
    "plt.title(\"Segunda 'zona de dibujo'\")\n",
    "\n",
    "ax3 = fig.add_subplot(223)\n",
    "ax3.plot([1, 2, 3, 4], [10, 20, 25, 30], color='lightblue', linewidth=3,label=\"línea\")\n",
    "ax3.scatter([0.3, 3.8, 1.2, 2.5], [11, 25, 9, 26], color='darkgreen', marker='^',label=\"marker\")\n",
    "ax3.legend()\n",
    "plt.title(\"Tercera 'zona de dibujo'\")\n",
    "\n",
    "ax4 = fig.add_subplot(224)\n",
    "ax4.plot(x, x, label='línea')\n",
    "ax4.legend()\n",
    "plt.title(\"Cuarta 'zona de dibujo'\")\n",
    "plt.show()"
   ]
  },
  {
   "cell_type": "markdown",
   "metadata": {},
   "source": [
    "Las zonas de dibujo (`Axes`) siempre deben vincularse a una Figura. Podemos fijar un título para cada zona usando `set_title()`. Por cada `Axes` tenemos 2 o tres ejes (`Axis`), entre sus funcioes útiles tenemos:\n",
    "\n",
    "**Para controlar el límite de los ejes:**\n",
    "* `axes.Axes.set_xlim()`\n",
    "* `axes.Axes.set_ylim()`\n",
    "\n",
    "**Para fijar una etiqueta en el eje**\n",
    "\n",
    "* `set_xlabel()`\n",
    "* `set_ylabel()`\n",
    "\n",
    "\n",
    "Veamos un ejemplo:"
   ]
  },
  {
   "cell_type": "code",
   "execution_count": null,
   "metadata": {},
   "outputs": [],
   "source": [
    "fig = plt.figure()\n",
    "ax = fig.add_subplot(121)\n",
    "ax.plot([1, 2, 3, 4], [10, 20, 25, 30], color='lightblue', linewidth=3,label=\"línea\")\n",
    "ax.scatter([0.3, 3.8, 1.2, 2.5], [11, 25, 9, 26], color='darkgreen', marker='^',label=\"marker\")\n",
    "ax.set_xlim(0, 4.5)\n",
    "ax.set_ylim(0, 31)\n",
    "ax.set_ylabel(\"Eje y\")\n",
    "ax.set_xlabel(\"Eje x\")\n",
    "ax.legend()\n",
    "ax.set_title(\"Primera 'zona de dibujo'\")\n",
    "ax2 = fig.add_subplot(122)\n",
    "ax2.plot(x, x, label='línea')\n",
    "ax2.legend()\n",
    "ax2.set_title(\"Segunda 'zona de dibujo'\")\n",
    "plt.show()"
   ]
  },
  {
   "cell_type": "markdown",
   "metadata": {},
   "source": [
    "## Diferentes tipos de gráficos\n",
    "\n",
    "Veamos ahora una galería de gráficos utilizados en diferentes contextos. Según los ejemplos anteriores tenemos la posibilidad de graficar puntos sobre el plano utilizando `plt.plot()`"
   ]
  },
  {
   "cell_type": "markdown",
   "metadata": {},
   "source": [
    "### El commando `plt.plot()`"
   ]
  },
  {
   "cell_type": "code",
   "execution_count": null,
   "metadata": {},
   "outputs": [],
   "source": [
    "plt.plot([1,2,4,3,1,2,8,7])\n",
    "plt.ylabel('Una lista de valores')\n",
    "plt.show()"
   ]
  },
  {
   "cell_type": "code",
   "execution_count": null,
   "metadata": {},
   "outputs": [],
   "source": [
    "np.array([[1, 2, 3,4], [1, 4, 9, 16],[3,4,2,16]])"
   ]
  },
  {
   "cell_type": "code",
   "execution_count": null,
   "metadata": {},
   "outputs": [],
   "source": [
    "plt.plot([1,4,3],[[1, 2, 3,4], [1, 4, 9, 16],[3,4,2,16]]) \n",
    "plt.ylabel('Un arreglo en x, un arreglo en y')\n",
    "plt.grid()\n",
    "plt.show()"
   ]
  },
  {
   "cell_type": "code",
   "execution_count": null,
   "metadata": {},
   "outputs": [],
   "source": [
    "import numpy as np\n",
    "\n",
    "x=np.arange(-10,10,0.1)\n",
    "y=np.sin(x)\n",
    "plt.plot(x,y) \n",
    "plt.ylabel('Un gráfico de sen(x)')\n",
    "plt.show()"
   ]
  },
  {
   "cell_type": "markdown",
   "metadata": {},
   "source": [
    "No obstante podemos graficar sin unir los puntos:"
   ]
  },
  {
   "cell_type": "code",
   "execution_count": null,
   "metadata": {},
   "outputs": [],
   "source": [
    "plt.plot([1, 2, 3, 4], [1, 4, 9, 16], '^y')\n",
    "plt.axis([0, 6, 0, 20])\n",
    "plt.show()"
   ]
  },
  {
   "cell_type": "code",
   "execution_count": null,
   "metadata": {},
   "outputs": [],
   "source": [
    "x=np.arange(-10,10,0.1)\n",
    "y=np.sin(x)\n",
    "plt.plot(x,y,'g*') \n",
    "plt.ylabel('Un gráfico de sen(x)')\n",
    "plt.show()"
   ]
  },
  {
   "cell_type": "markdown",
   "metadata": {},
   "source": [
    "**Varias funciones en un mismo gráfico:**"
   ]
  },
  {
   "cell_type": "code",
   "execution_count": null,
   "metadata": {},
   "outputs": [],
   "source": [
    "plt.plot(x,np.sin(x)+np.cos(x) , 'r--', x, np.sin(x), 'bs', x, np.cos(x), 'g^')\n",
    "plt.show()"
   ]
  },
  {
   "cell_type": "code",
   "execution_count": null,
   "metadata": {},
   "outputs": [],
   "source": [
    "x = np.linspace(0, 2, 100)\n",
    "fig, ax = plt.subplots()  # Creamos una instancia de figura y una zona de dibujo.\n",
    "ax.plot(x, x, label='Función lineal')  \n",
    "ax.plot(x, x**2, label='Función cuadrática')  \n",
    "ax.plot(x, x**3, label='Función cúbica') \n",
    "ax.set_xlabel('eje x')  \n",
    "ax.set_ylabel('eje y')  \n",
    "ax.set_title(\"Tres funciones\")  \n",
    "ax.legend()  "
   ]
  },
  {
   "cell_type": "markdown",
   "metadata": {},
   "source": [
    "Usamos estilos y colores para lineas, para mayor información usar: "
   ]
  },
  {
   "cell_type": "code",
   "execution_count": null,
   "metadata": {},
   "outputs": [],
   "source": [
    "line,=plt.plot([1,2,3])\n",
    "plt.setp(line)"
   ]
  },
  {
   "cell_type": "markdown",
   "metadata": {},
   "source": [
    "### Gráficos de dispersión \n",
    "Iniciemos definiendo una base de datos aleatoria:"
   ]
  },
  {
   "cell_type": "code",
   "execution_count": null,
   "metadata": {},
   "outputs": [],
   "source": [
    "data={}\n",
    "data = {'Eje x': np.arange(50),\n",
    "        'Tamaño': np.random.randn(50),\n",
    "        'Color': np.random.randint(0, 50, 50)}\n",
    "data['Eje y'] = data['Eje x'] + 10 * np.random.randn(50)\n",
    "data['Tamaño'] = np.abs(data['Tamaño']) * 100"
   ]
  },
  {
   "cell_type": "code",
   "execution_count": null,
   "metadata": {},
   "outputs": [],
   "source": [
    "data"
   ]
  },
  {
   "cell_type": "code",
   "execution_count": null,
   "metadata": {},
   "outputs": [],
   "source": [
    "data['Eje x']"
   ]
  },
  {
   "cell_type": "code",
   "execution_count": null,
   "metadata": {},
   "outputs": [],
   "source": [
    "data['Eje y']"
   ]
  },
  {
   "cell_type": "code",
   "execution_count": null,
   "metadata": {},
   "outputs": [],
   "source": [
    "plt.scatter('Eje x', 'Eje y',data=data)\n",
    "plt.xlabel('Valores guardados en a')\n",
    "plt.ylabel('Valores guardados en b')\n",
    "plt.show()"
   ]
  },
  {
   "cell_type": "markdown",
   "metadata": {},
   "source": [
    "Introduzcamos variación de tamaños"
   ]
  },
  {
   "cell_type": "code",
   "execution_count": null,
   "metadata": {},
   "outputs": [],
   "source": [
    "plt.scatter('Eje x', 'Eje y',s='Tamaño',data=data)\n",
    "plt.xlabel('Valores guardados en a')\n",
    "plt.ylabel('Valores guardados en b')\n",
    "plt.show()"
   ]
  },
  {
   "cell_type": "markdown",
   "metadata": {},
   "source": [
    "Finalmente usemos colores:"
   ]
  },
  {
   "cell_type": "code",
   "execution_count": null,
   "metadata": {},
   "outputs": [],
   "source": [
    "plt.scatter('Eje x', 'Eje y',s='Tamaño',c='Color',cmap='inferno',data=data)\n",
    "plt.xlabel('Valores guardados en a')\n",
    "plt.ylabel('Valores guardados en b')\n",
    "plt.show()"
   ]
  },
  {
   "cell_type": "markdown",
   "metadata": {},
   "source": [
    "### Gráficos para variables categóricas\n",
    "\n",
    "Con Matplotlib también podemos hacer gráficos de variables categóricas. Un ejemplo simple:"
   ]
  },
  {
   "cell_type": "code",
   "execution_count": null,
   "metadata": {},
   "outputs": [],
   "source": [
    "x=[\"María\", \"Pedro\", \"Juan\"]\n",
    "y=[10,12,8]\n",
    "plt.bar(x,y)"
   ]
  },
  {
   "cell_type": "code",
   "execution_count": null,
   "metadata": {},
   "outputs": [],
   "source": [
    "x=[\"María\", \"Pedro\", \"Juan\"]\n",
    "y=[10,12,8]\n",
    "plt.barh(x,y,color='y')"
   ]
  },
  {
   "cell_type": "code",
   "execution_count": null,
   "metadata": {},
   "outputs": [],
   "source": [
    "x=[\"María\", \"Pedro\", \"Juan\"]\n",
    "y=[10,12,8]\n",
    "plt.plot(x,y)"
   ]
  },
  {
   "cell_type": "code",
   "execution_count": null,
   "metadata": {},
   "outputs": [],
   "source": [
    "x=[\"María\", \"Pedro\", \"Juan\"]\n",
    "y=[10,12,8]\n",
    "plt.scatter(y,x)"
   ]
  },
  {
   "cell_type": "markdown",
   "metadata": {},
   "source": [
    "Un gráfico de barras apilado"
   ]
  },
  {
   "cell_type": "code",
   "execution_count": null,
   "metadata": {},
   "outputs": [],
   "source": [
    "labels = ['G1', 'G2', 'G3', 'G4', 'G5']\n",
    "hombres = [24, 26, 30, 35, 17]\n",
    "mujeres = np.array([22, 31, 44, 18, 30])\n",
    "width = 0.35       \n",
    "fig, ax = plt.subplots()\n",
    "\n",
    "\n",
    "ax.bar(labels, mujeres, width, bottom=hombres,label='Mujeres')\n",
    "ax.bar(labels, hombres, width, label='Hombres')\n",
    "ax.set_ylabel('Puntuaciones')\n",
    "ax.set_title('Puntuaciones por grupo y género')\n",
    "ax.legend()\n"
   ]
  },
  {
   "cell_type": "markdown",
   "metadata": {},
   "source": [
    "Ahora agrupados:"
   ]
  },
  {
   "cell_type": "code",
   "execution_count": null,
   "metadata": {},
   "outputs": [],
   "source": [
    "x = np.arange(len(labels)) \n",
    "fig, ax = plt.subplots()\n",
    "rects1 = ax.bar(x - width/2, hombres, width, label='Hombres')\n",
    "rects2 = ax.bar(x , mujeres+10, width,bottom=5*[10], label='Mujeres')\n",
    "ax.set_xticks(x)\n",
    "ax.set_xticklabels(labels)\n",
    "\n",
    "ax.set_ylabel('Puntuaciones')\n",
    "ax.set_title('Puntuaciones por grupo y género')\n",
    "ax.legend()\n"
   ]
  },
  {
   "cell_type": "markdown",
   "metadata": {},
   "source": [
    "**Histogramas**"
   ]
  },
  {
   "cell_type": "code",
   "execution_count": null,
   "metadata": {},
   "outputs": [],
   "source": [
    "mu, sigma = 100, 15\n",
    "x = mu + sigma * np.random.randn(10000)\n",
    "\n",
    "n, bins, patches = plt.hist(x, 89, density=True, facecolor='y', alpha=0.5)\n",
    "\n",
    "plt.xlabel('Puntaje')\n",
    "plt.ylabel('Probabilidad')\n",
    "plt.title('Histograma')\n",
    "plt.axis([40, 160, 0, 0.03])\n",
    "plt.grid(True)\n",
    "plt.show()\n"
   ]
  },
  {
   "cell_type": "code",
   "execution_count": null,
   "metadata": {},
   "outputs": [],
   "source": [
    "n"
   ]
  },
  {
   "cell_type": "code",
   "execution_count": null,
   "metadata": {},
   "outputs": [],
   "source": [
    "bins"
   ]
  },
  {
   "cell_type": "code",
   "execution_count": null,
   "metadata": {},
   "outputs": [],
   "source": [
    "patches"
   ]
  },
  {
   "cell_type": "code",
   "execution_count": null,
   "metadata": {},
   "outputs": [],
   "source": [
    "mu, sigma = 100, 15\n",
    "x = mu + sigma * np.random.randn(10000)\n",
    "def histograma(n,a):\n",
    "    plt.hist(x, n, density=True, facecolor='y', alpha=a)\n",
    "    plt.xlabel('Puntaje')\n",
    "    plt.ylabel('Probabilidad')\n",
    "    plt.title('Histograma')\n",
    "    plt.axis([40, 160, 0, 0.03])\n",
    "    plt.grid(True)\n",
    "    plt.show()\n",
    "    return"
   ]
  },
  {
   "cell_type": "code",
   "execution_count": null,
   "metadata": {},
   "outputs": [],
   "source": [
    "import ipywidgets as widgets\n",
    "from ipywidgets import interact\n",
    "interact(histograma,n=widgets.IntSlider(value=30,min=1,max=50,description=\"Intervalos\"),\n",
    "         a=widgets.FloatSlider(value=0.5,min=0,max=1,description=\"Transparencia\"))"
   ]
  },
  {
   "cell_type": "code",
   "execution_count": null,
   "metadata": {},
   "outputs": [],
   "source": [
    "from math import sqrt\n",
    "x=25\n",
    "eval(\"sqrt(x)\")"
   ]
  },
  {
   "cell_type": "markdown",
   "metadata": {},
   "source": [
    "### Graficador de funciones"
   ]
  },
  {
   "cell_type": "code",
   "execution_count": null,
   "metadata": {},
   "outputs": [],
   "source": [
    "def graffun(nf,xmin,xmax,ymin,ymax):\n",
    "    try:\n",
    "        x = np.linspace(xmin, xmax, 100)\n",
    "        y=eval(nf)\n",
    "        plt.plot(x,y)\n",
    "        plt.axis([xmin,xmax,ymin,ymax])\n",
    "        plt.grid(True)\n",
    "    except:\n",
    "        print('Error!!')\n",
    "\n",
    "\n",
    "interact(graffun,nf='(x-3)**2',xmin=0,xmax=2*np.pi,ymin=-1,ymax=1)  "
   ]
  },
  {
   "cell_type": "markdown",
   "metadata": {},
   "source": [
    "### Texto en las gráficas\n",
    "\n",
    "Ahora usaremos el comando `plt.text()` y `plt.annotate()` para adicionar texto en el gráfico:"
   ]
  },
  {
   "cell_type": "code",
   "execution_count": null,
   "metadata": {},
   "outputs": [],
   "source": [
    "ax = plt.subplot(111)\n",
    "\n",
    "t = np.arange(0.0, 5.0, 0.01)\n",
    "s = np.cos(2*np.pi*t)\n",
    "line, = plt.plot(t, s, lw=2)\n",
    "\n",
    "plt.text(0.7,1.12,'Un máximo\\nlocal ')\n",
    "\n",
    "plt.ylim(-2, 2)\n",
    "plt.show()"
   ]
  },
  {
   "cell_type": "code",
   "execution_count": null,
   "metadata": {},
   "outputs": [],
   "source": [
    "ax = plt.subplot(111)\n",
    "\n",
    "t = np.arange(0.0, 5.0, 0.01)\n",
    "s = np.cos(2*np.pi*t)\n",
    "line, = plt.plot(t, s, lw=2)\n",
    "\n",
    "plt.text(0.7,1.12,r'$\\left(2\\cdot\\pi\\cdot\\frac{\\pi}{2},1\\right)$')\n",
    "plt.title(r\"Función $\\cos(2\\pi x)$ y un máximo local\")\n",
    "plt.ylim(-2, 2)\n",
    "plt.show()"
   ]
  },
  {
   "cell_type": "markdown",
   "metadata": {},
   "source": [
    "Ahora con una anotación:"
   ]
  },
  {
   "cell_type": "code",
   "execution_count": null,
   "metadata": {},
   "outputs": [],
   "source": [
    "ax = plt.subplot(111)\n",
    "\n",
    "t = np.arange(0.0, 5.0, 0.01)\n",
    "s = np.cos(2*np.pi*t)\n",
    "line, = plt.plot(t, s, lw=2)\n",
    "\n",
    "plt.annotate('Máximo local', xy=(1, 1), xytext=(3, 1.5),\n",
    "             arrowprops=dict(edgecolor='green',facecolor='blue', shrink=0),\n",
    "             )\n",
    "\n",
    "plt.ylim(-2, 2)\n",
    "plt.show()\n"
   ]
  },
  {
   "cell_type": "code",
   "execution_count": null,
   "metadata": {},
   "outputs": [],
   "source": [
    "ax = plt.subplot(111)\n",
    "\n",
    "t1 = np.arange(-5.0,0.001, 0.01)\n",
    "t2 = np.arange(0.01,5.0, 0.01)\n",
    "s1 = 1/t1\n",
    "s2 = 1/t2\n",
    "plt.plot(t1, s1,t2,s2)\n",
    "\n",
    "plt.ylim(-2, 2)\n",
    "plt.show()"
   ]
  },
  {
   "cell_type": "code",
   "execution_count": null,
   "metadata": {},
   "outputs": [],
   "source": [
    "?plt.annotate"
   ]
  },
  {
   "cell_type": "code",
   "execution_count": null,
   "metadata": {},
   "outputs": [],
   "source": [
    "ax = plt.subplot(111)\n",
    "\n",
    "t = np.arange(0.0, 5.0, 0.01)\n",
    "s = np.cos(2*np.pi*t)\n",
    "line, = plt.plot(t, s, lw=2)\n",
    "\n",
    "plt.annotate('Máximo local', xy=(1, 1), xytext=(3, 1.5),\n",
    "             arrowprops=dict(edgecolor='green',facecolor='red', shrink=0.05),)\n",
    "\n",
    "plt.ylim(-2, 2)\n",
    "plt.show()\n"
   ]
  },
  {
   "cell_type": "code",
   "execution_count": null,
   "metadata": {},
   "outputs": [],
   "source": [
    "def estiloflecha(l):\n",
    "    ax = plt.subplot(111)\n",
    "\n",
    "    t = np.arange(0.0, 5.0, 0.01)\n",
    "    s = np.cos(2*np.pi*t)\n",
    "    line, = plt.plot(t, s, lw=2)\n",
    "\n",
    "    plt.annotate('Máximo local', xy=(1, 1), xytext=(3, 1.5),\n",
    "                 arrowprops=dict(edgecolor='green',facecolor='red', arrowstyle=l),)\n",
    "\n",
    "    plt.ylim(-2, 2)\n",
    "    plt.show()\n",
    "    return\n",
    "\n"
   ]
  },
  {
   "cell_type": "code",
   "execution_count": null,
   "metadata": {},
   "outputs": [],
   "source": [
    "interact(estiloflecha,l=['-','->','-[','|-|','-|>','fancy','simple','wedge'])"
   ]
  },
  {
   "cell_type": "markdown",
   "metadata": {},
   "source": [
    "## Backends\n",
    "\n",
    "Al usar Jupyter nosotros estamos pidiendo que el gráfico se pueda visualizar en el entorno web en el cual se está mostrando las salidas de Python. Sin embargo, es posible visalizar estos mismos gráficos en otras interfáces gráficas más potentes ycon más herramientas. \n",
    "\n",
    "Matplotlib permite utilizar las diferentes interfáces haciendo modificación en su backend, entendiendo al backend como el motor gráfico que genera las diferentes imagenes que imaginamos.\n",
    "\n",
    "Para modificar el backend usado en Jupyter usamos un comándo mágico `%matplotlib`. Veamos algunos ejemplos:"
   ]
  },
  {
   "cell_type": "code",
   "execution_count": null,
   "metadata": {},
   "outputs": [],
   "source": [
    "import matplotlib"
   ]
  },
  {
   "cell_type": "code",
   "execution_count": null,
   "metadata": {},
   "outputs": [],
   "source": [
    "import matplotlib\n",
    "import matplotlib.pyplot as plt\n",
    "import numpy as np"
   ]
  },
  {
   "cell_type": "code",
   "execution_count": null,
   "metadata": {
    "scrolled": false
   },
   "outputs": [],
   "source": [
    "%matplotlib notebook\n",
    "ax = plt.subplot(111)\n",
    "t = np.arange(0.0, 5.0, 0.01)\n",
    "s = np.cos(2*np.pi*t)\n",
    "line, = plt.plot(t, s, lw=2)\n",
    "plt.text(0.7,1.12,'Un máximo\\nlocal ')\n",
    "plt.ylim(-2, 2)\n",
    "plt.show()"
   ]
  },
  {
   "cell_type": "code",
   "execution_count": null,
   "metadata": {},
   "outputs": [],
   "source": [
    "!pip install mpld3"
   ]
  },
  {
   "cell_type": "code",
   "execution_count": 1,
   "metadata": {},
   "outputs": [
    {
     "data": {
      "image/png": "[encoded data removed]",
      "text/html": [
       "\n",
       "\n",
       "<style>\n",
       "\n",
       "</style>\n",
       "\n",
       "<div id=\"fig_el334381399431019961762082032733\"></div>\n",
       "<script>\n",
       "function mpld3_load_lib(url, callback){\n",
       "  var s = document.createElement('script');\n",
       "  s.src = url;\n",
       "  s.async = true;\n",
       "  s.onreadystatechange = s.onload = callback;\n",
       "  s.onerror = function(){console.warn(\"failed to load library \" + url);};\n",
       "  document.getElementsByTagName(\"head\")[0].appendChild(s);\n",
       "}\n",
       "\n",
       "if(typeof(mpld3) !== \"undefined\" && mpld3._mpld3IsLoaded){\n",
       "   // already loaded: just create the figure\n",
       "   !function(mpld3){\n",
       "       \n",
       "       mpld3.draw_figure(\"fig_el334381399431019961762082032733\", {\"width\": 432.0, \"height\": 288.0, \"axes\": [{\"bbox\": [0.125, 0.125, 0.775, 0.755], \"xlim\": [-0.24950000000000003, 5.2395000000000005], \"ylim\": [-2.0, 2.0], \"xdomain\": [-0.24950000000000003, 5.2395000000000005], \"ydomain\": [-2.0, 2.0], \"xscale\": \"linear\", \"yscale\": \"linear\", \"axes\": [{\"position\": \"bottom\", \"nticks\": 8, \"tickvalues\": null, \"tickformat_formatter\": \"\", \"tickformat\": null, \"scale\": \"linear\", \"fontsize\": 10.0, \"grid\": {\"gridOn\": false}, \"visible\": true}, {\"position\": \"left\", \"nticks\": 9, \"tickvalues\": null, \"tickformat_formatter\": \"\", \"tickformat\": null, \"scale\": \"linear\", \"fontsize\": 10.0, \"grid\": {\"gridOn\": false}, \"visible\": true}], \"axesbg\": \"#FFFFFF\", \"axesbgalpha\": null, \"zoomable\": true, \"id\": \"el33438139943322321296\", \"lines\": [{\"data\": \"data01\", \"xindex\": 0, \"yindex\": 1, \"coordinates\": \"data\", \"id\": \"el33438139943793255184\", \"color\": \"#1F77B4\", \"linewidth\": 2.0, \"dasharray\": \"none\", \"alpha\": 1, \"zorder\": 2, \"drawstyle\": \"default\"}], \"paths\": [], \"markers\": [], \"texts\": [{\"text\": \"Un m\\u00e1ximo\\nlocal \", \"position\": [0.7, 1.12], \"coordinates\": \"data\", \"h_anchor\": \"start\", \"v_baseline\": \"auto\", \"rotation\": -0.0, \"fontsize\": 10.0, \"color\": \"#000000\", \"alpha\": 1, \"zorder\": 3, \"id\": \"el33438139943322301584\"}], \"collections\": [], \"images\": [], \"sharex\": [], \"sharey\": []}], \"data\": {\"data01\": [[0.0, 1.0], [0.01, 0.9980267284282716], [0.02, 0.9921147013144779], [0.03, 0.9822872507286887], [0.04, 0.9685831611286311], [0.05, 0.9510565162951535], [0.06, 0.9297764858882515], [0.07, 0.9048270524660195], [0.08, 0.8763066800438636], [0.09, 0.8443279255020151], [0.1, 0.8090169943749475], [0.11, 0.7705132427757893], [0.12, 0.7289686274214116], [0.13, 0.6845471059286886], [0.14, 0.6374239897486896], [0.15, 0.5877852522924731], [0.16, 0.5358267949789965], [0.17, 0.48175367410171516], [0.18, 0.42577929156507266], [0.19, 0.3681245526846781], [0.2, 0.30901699437494745], [0.21, 0.24868988716485496], [0.22, 0.18738131458572474], [0.23, 0.12533323356430426], [0.24, 0.06279051952931353], [0.25, 6.123233995736766e-17], [0.26, -0.0627905195293134], [0.27, -0.12533323356430437], [0.28, -0.18738131458572482], [0.29, -0.24868988716485463], [0.3, -0.30901699437494734], [0.31, -0.368124552684678], [0.32, -0.4257792915650727], [0.33, -0.48175367410171543], [0.34, -0.5358267949789969], [0.35000000000000003, -0.587785252292473], [0.36, -0.6374239897486897], [0.37, -0.6845471059286887], [0.38, -0.7289686274214113], [0.39, -0.7705132427757891], [0.4, -0.8090169943749473], [0.41000000000000003, -0.8443279255020151], [0.42, -0.8763066800438634], [0.43, -0.9048270524660194], [0.44, -0.9297764858882513], [0.45, -0.9510565162951535], [0.46, -0.9685831611286311], [0.47000000000000003, -0.9822872507286887], [0.48, -0.9921147013144778], [0.49, -0.9980267284282716], [0.5, -1.0], [0.51, -0.9980267284282716], [0.52, -0.9921147013144779], [0.53, -0.9822872507286886], [0.54, -0.9685831611286311], [0.55, -0.9510565162951535], [0.56, -0.9297764858882512], [0.5700000000000001, -0.9048270524660195], [0.58, -0.8763066800438637], [0.59, -0.8443279255020152], [0.6, -0.8090169943749476], [0.61, -0.7705132427757893], [0.62, -0.7289686274214116], [0.63, -0.684547105928689], [0.64, -0.6374239897486895], [0.65, -0.5877852522924732], [0.66, -0.5358267949789963], [0.67, -0.48175367410171527], [0.68, -0.42577929156507216], [0.6900000000000001, -0.3681245526846778], [0.7000000000000001, -0.30901699437494756], [0.71, -0.2486898871648553], [0.72, -0.18738131458572463], [0.73, -0.1253332335643046], [0.74, -0.06279051952931321], [0.75, -1.8369701987210297e-16], [0.76, 0.06279051952931283], [0.77, 0.12533323356430423], [0.78, 0.18738131458572427], [0.79, 0.24868988716485493], [0.8, 0.30901699437494723], [0.81, 0.36812455268467825], [0.8200000000000001, 0.4257792915650726], [0.8300000000000001, 0.4817536741017157], [0.84, 0.535826794978996], [0.85, 0.5877852522924729], [0.86, 0.6374239897486893], [0.87, 0.6845471059286886], [0.88, 0.7289686274214112], [0.89, 0.7705132427757894], [0.9, 0.8090169943749473], [0.91, 0.8443279255020153], [0.92, 0.8763066800438636], [0.93, 0.9048270524660197], [0.9400000000000001, 0.9297764858882515], [0.9500000000000001, 0.9510565162951535], [0.96, 0.968583161128631], [0.97, 0.9822872507286887], [0.98, 0.9921147013144778], [0.99, 0.9980267284282716], [1.0, 1.0], [1.01, 0.9980267284282716], [1.02, 0.9921147013144779], [1.03, 0.9822872507286887], [1.04, 0.9685831611286311], [1.05, 0.9510565162951536], [1.06, 0.9297764858882513], [1.07, 0.9048270524660196], [1.08, 0.8763066800438634], [1.09, 0.8443279255020151], [1.1, 0.809016994374947], [1.11, 0.770513242775789], [1.12, 0.728968627421411], [1.1300000000000001, 0.6845471059286884], [1.1400000000000001, 0.6374239897486896], [1.1500000000000001, 0.5877852522924727], [1.16, 0.5358267949789972], [1.17, 0.48175367410171616], [1.18, 0.42577929156507305], [1.19, 0.36812455268467875], [1.2, 0.30901699437494773], [1.21, 0.2486898871648554], [1.22, 0.18738131458572474], [1.23, 0.12533323356430473], [1.24, 0.06279051952931332], [1.25, 3.061616997868383e-16], [1.26, -0.06279051952931271], [1.27, -0.12533323356430412], [1.28, -0.18738131458572502], [1.29, -0.24868988716485482], [1.3, -0.3090169943749471], [1.31, -0.3681245526846773], [1.32, -0.4257792915650733], [1.33, -0.4817536741017156], [1.34, -0.5358267949789967], [1.35, -0.5877852522924729], [1.36, -0.6374239897486905], [1.37, -0.6845471059286892], [1.3800000000000001, -0.7289686274214118], [1.3900000000000001, -0.7705132427757893], [1.4000000000000001, -0.8090169943749472], [1.41, -0.8443279255020147], [1.42, -0.876306680043863], [1.43, -0.9048270524660189], [1.44, -0.9297764858882515], [1.45, -0.9510565162951534], [1.46, -0.968583161128631], [1.47, -0.9822872507286885], [1.48, -0.9921147013144779], [1.49, -0.9980267284282716], [1.5, -1.0], [1.51, -0.9980267284282716], [1.52, -0.992114701314478], [1.53, -0.9822872507286886], [1.54, -0.9685831611286311], [1.55, -0.9510565162951536], [1.56, -0.9297764858882517], [1.57, -0.9048270524660192], [1.58, -0.8763066800438635], [1.59, -0.8443279255020151], [1.6, -0.8090169943749477], [1.61, -0.7705132427757886], [1.62, -0.7289686274214111], [1.6300000000000001, -0.6845471059286884], [1.6400000000000001, -0.6374239897486897], [1.6500000000000001, -0.5877852522924735], [1.6600000000000001, -0.5358267949789958], [1.67, -0.48175367410171627], [1.68, -0.425779291565074], [1.69, -0.36812455268467803], [1.7, -0.30901699437494784], [1.71, -0.24868988716485554], [1.72, -0.18738131458572574], [1.73, -0.12533323356430395], [1.74, -0.06279051952931344], [1.75, -4.286263797015736e-16], [1.76, 0.0627905195293126], [1.77, 0.12533323356430312], [1.78, 0.1873813145857249], [1.79, 0.2486898871648547], [1.8, 0.309016994374947], [1.81, 0.3681245526846772], [1.82, 0.4257792915650732], [1.83, 0.4817536741017155], [1.84, 0.5358267949789965], [1.85, 0.5877852522924728], [1.86, 0.6374239897486904], [1.87, 0.6845471059286892], [1.8800000000000001, 0.7289686274214117], [1.8900000000000001, 0.7705132427757891], [1.9000000000000001, 0.8090169943749471], [1.9100000000000001, 0.8443279255020156], [1.92, 0.876306680043863], [1.93, 0.9048270524660189], [1.94, 0.9297764858882513], [1.95, 0.9510565162951534], [1.96, 0.968583161128631], [1.97, 0.9822872507286885], [1.98, 0.9921147013144779], [1.99, 0.9980267284282716], [2.0, 1.0], [2.0100000000000002, 0.9980267284282716], [2.02, 0.992114701314478], [2.0300000000000002, 0.9822872507286886], [2.04, 0.9685831611286312], [2.05, 0.9510565162951543], [2.06, 0.9297764858882517], [2.07, 0.90482705246602], [2.08, 0.8763066800438635], [2.09, 0.8443279255020161], [2.1, 0.8090169943749477], [2.11, 0.7705132427757898], [2.12, 0.7289686274214111], [2.13, 0.6845471059286898], [2.14, 0.6374239897486899], [2.15, 0.5877852522924736], [2.16, 0.5358267949789959], [2.17, 0.4817536741017164], [2.18, 0.4257792915650725], [2.19, 0.36812455268467814], [2.2, 0.30901699437494623], [2.21, 0.24868988716485566], [2.22, 0.18738131458572413], [2.23, 0.1253332335643041], [2.24, 0.06279051952931179], [2.25, 5.51091059616309e-16], [2.2600000000000002, -0.06279051952931425], [2.27, -0.12533323356430298], [2.2800000000000002, -0.18738131458572477], [2.29, -0.2486898871648546], [2.3000000000000003, -0.30901699437494856], [2.31, -0.3681245526846771], [2.32, -0.4257792915650715], [2.33, -0.4817536741017154], [2.34, -0.5358267949789949], [2.35, -0.5877852522924727], [2.36, -0.637423989748689], [2.37, -0.6845471059286891], [2.38, -0.7289686274214104], [2.39, -0.770513242775789], [2.4, -0.8090169943749471], [2.41, -0.8443279255020155], [2.42, -0.8763066800438629], [2.43, -0.9048270524660196], [2.44, -0.9297764858882513], [2.45, -0.951056516295154], [2.46, -0.9685831611286309], [2.47, -0.9822872507286887], [2.48, -0.9921147013144779], [2.49, -0.9980267284282717], [2.5, -1.0], [2.5100000000000002, -0.9980267284282716], [2.52, -0.992114701314478], [2.5300000000000002, -0.9822872507286886], [2.54, -0.9685831611286312], [2.5500000000000003, -0.9510565162951532], [2.56, -0.9297764858882511], [2.57, -0.9048270524660209], [2.58, -0.8763066800438636], [2.59, -0.8443279255020152], [2.6, -0.8090169943749478], [2.61, -0.7705132427757899], [2.62, -0.7289686274214124], [2.63, -0.68454710592869], [2.64, -0.6374239897486885], [2.65, -0.5877852522924751], [2.66, -0.535826794978996], [2.67, -0.48175367410171493], [2.68, -0.4257792915650726], [2.69, -0.36812455268467825], [2.7, -0.30901699437494806], [2.71, -0.24868988716485577], [2.72, -0.1873813145857225], [2.73, -0.12533323356430598], [2.74, -0.06279051952931192], [2.75, -2.4499125789312946e-15], [2.7600000000000002, 0.06279051952931412], [2.77, 0.12533323356430462], [2.7800000000000002, 0.18738131458572466], [2.79, 0.24868988716485446], [2.8000000000000003, 0.3090169943749468], [2.81, 0.368124552684677], [2.82, 0.4257792915650714], [2.83, 0.4817536741017137], [2.84, 0.5358267949789949], [2.85, 0.587785252292474], [2.86, 0.6374239897486875], [2.87, 0.684547105928689], [2.88, 0.7289686274214116], [2.89, 0.770513242775789], [2.9, 0.809016994374947], [2.91, 0.8443279255020145], [2.92, 0.8763066800438629], [2.93, 0.9048270524660202], [2.94, 0.9297764858882506], [2.95, 0.9510565162951539], [2.96, 0.9685831611286313], [2.97, 0.9822872507286887], [2.98, 0.9921147013144779], [2.99, 0.9980267284282716], [3.0, 1.0], [3.0100000000000002, 0.9980267284282714], [3.02, 0.992114701314478], [3.0300000000000002, 0.9822872507286884], [3.04, 0.9685831611286316], [3.0500000000000003, 0.9510565162951533], [3.06, 0.9297764858882511], [3.0700000000000003, 0.9048270524660194], [3.08, 0.8763066800438636], [3.09, 0.8443279255020153], [3.1, 0.8090169943749479], [3.11, 0.7705132427757899], [3.12, 0.7289686274214126], [3.13, 0.6845471059286901], [3.14, 0.6374239897486886], [3.15, 0.5877852522924751], [3.16, 0.5358267949789961], [3.17, 0.48175367410171505], [3.18, 0.4257792915650727], [3.19, 0.36812455268467836], [3.2, 0.3090169943749482], [3.21, 0.2486898871648559], [3.22, 0.1873813145857226], [3.23, 0.1253332335643061], [3.24, 0.06279051952931204], [3.25, -9.803364199544708e-16], [3.2600000000000002, -0.062790519529314], [3.27, -0.1253332335643045], [3.2800000000000002, -0.18738131458572455], [3.29, -0.24868988716485435], [3.3000000000000003, -0.3090169943749467], [3.31, -0.36812455268467686], [3.3200000000000003, -0.4257792915650745], [3.33, -0.4817536741017136], [3.34, -0.5358267949789948], [3.35, -0.5877852522924739], [3.36, -0.6374239897486874], [3.37, -0.6845471059286888], [3.38, -0.7289686274214114], [3.39, -0.7705132427757889], [3.4, -0.8090169943749469], [3.41, -0.8443279255020144], [3.42, -0.8763066800438628], [3.43, -0.9048270524660202], [3.44, -0.9297764858882506], [3.45, -0.9510565162951539], [3.46, -0.9685831611286313], [3.47, -0.9822872507286887], [3.48, -0.9921147013144778], [3.49, -0.9980267284282716], [3.5, -1.0], [3.5100000000000002, -0.9980267284282714], [3.52, -0.992114701314478], [3.5300000000000002, -0.9822872507286884], [3.54, -0.9685831611286317], [3.5500000000000003, -0.9510565162951533], [3.56, -0.9297764858882512], [3.5700000000000003, -0.9048270524660195], [3.58, -0.8763066800438637], [3.59, -0.8443279255020154], [3.6, -0.8090169943749479], [3.61, -0.77051324277579], [3.62, -0.7289686274214127], [3.63, -0.6845471059286901], [3.64, -0.6374239897486887], [3.65, -0.5877852522924752], [3.66, -0.5358267949789962], [3.67, -0.4817536741017151], [3.68, -0.4257792915650728], [3.69, -0.3681245526846785], [3.7, -0.3090169943749483], [3.71, -0.24868988716485602], [3.72, -0.18738131458572274], [3.73, -0.1253332335643062], [3.74, -0.06279051952931217], [3.75, -2.6948419387607653e-15], [3.7600000000000002, 0.06279051952931387], [3.77, 0.1253332335643044], [3.7800000000000002, 0.1873813145857244], [3.79, 0.24868988716485424], [3.8000000000000003, 0.30901699437494656], [3.81, 0.36812455268467675], [3.8200000000000003, 0.4257792915650744], [3.83, 0.4817536741017135], [3.84, 0.5358267949789947], [3.85, 0.5877852522924738], [3.86, 0.6374239897486873], [3.87, 0.6845471059286887], [3.88, 0.7289686274214113], [3.89, 0.7705132427757888], [3.9, 0.8090169943749469], [3.91, 0.8443279255020144], [3.92, 0.8763066800438628], [3.93, 0.9048270524660201], [3.94, 0.9297764858882506], [3.95, 0.9510565162951539], [3.96, 0.9685831611286312], [3.97, 0.9822872507286887], [3.98, 0.9921147013144778], [3.99, 0.9980267284282716], [4.0, 1.0], [4.01, 0.9980267284282717], [4.0200000000000005, 0.9921147013144775], [4.03, 0.9822872507286884], [4.04, 0.9685831611286317], [4.05, 0.9510565162951544], [4.0600000000000005, 0.9297764858882512], [4.07, 0.9048270524660195], [4.08, 0.8763066800438637], [4.09, 0.8443279255020154], [4.1, 0.8090169943749501], [4.11, 0.7705132427757878], [4.12, 0.7289686274214127], [4.13, 0.6845471059286902], [4.14, 0.6374239897486916], [4.15, 0.5877852522924725], [4.16, 0.5358267949789963], [4.17, 0.4817536741017152], [4.18, 0.42577929156507616], [4.19, 0.36812455268467525], [4.2, 0.3090169943749484], [4.21, 0.24868988716485613], [4.22, 0.18738131458572635], [4.23, 0.12533323356430282], [4.24, 0.06279051952931229], [4.25, -7.354070601250002e-16], [4.26, -0.06279051952931021], [4.2700000000000005, -0.12533323356430778], [4.28, -0.1873813145857243], [4.29, -0.2486898871648541], [4.3, -0.3090169943749464], [4.3100000000000005, -0.36812455268468], [4.32, -0.42577929156507427], [4.33, -0.48175367410171344], [4.34, -0.5358267949789945], [4.3500000000000005, -0.5877852522924737], [4.36, -0.63742398974869], [4.37, -0.6845471059286887], [4.38, -0.7289686274214113], [4.39, -0.7705132427757865], [4.4, -0.8090169943749489], [4.41, -0.8443279255020143], [4.42, -0.8763066800438627], [4.43, -0.9048270524660186], [4.44, -0.9297764858882518], [4.45, -0.9510565162951538], [4.46, -0.9685831611286312], [4.47, -0.982287250728688], [4.48, -0.9921147013144782], [4.49, -0.9980267284282716], [4.5, -1.0], [4.51, -0.9980267284282717], [4.5200000000000005, -0.9921147013144777], [4.53, -0.9822872507286884], [4.54, -0.9685831611286317], [4.55, -0.9510565162951544], [4.5600000000000005, -0.9297764858882513], [4.57, -0.9048270524660196], [4.58, -0.8763066800438638], [4.59, -0.8443279255020155], [4.6000000000000005, -0.809016994374946], [4.61, -0.7705132427757879], [4.62, -0.7289686274214128], [4.63, -0.6845471059286903], [4.64, -0.6374239897486916], [4.65, -0.5877852522924726], [4.66, -0.5358267949789964], [4.67, -0.4817536741017153], [4.68, -0.42577929156507627], [4.69, -0.3681245526846754], [4.7, -0.3090169943749485], [4.71, -0.24868988716485624], [4.72, -0.18738131458572646], [4.73, -0.12533323356430293], [4.74, -0.0627905195293124], [4.75, -2.939771298590236e-15], [4.76, 0.06279051952931008], [4.7700000000000005, 0.12533323356430767], [4.78, 0.18738131458572418], [4.79, 0.248689887164854], [4.8, 0.3090169943749463], [4.8100000000000005, 0.36812455268467986], [4.82, 0.42577929156507416], [4.83, 0.4817536741017133], [4.84, 0.5358267949789944], [4.8500000000000005, 0.5877852522924736], [4.86, 0.6374239897486899], [4.87, 0.6845471059286886], [4.88, 0.7289686274214112], [4.89, 0.7705132427757865], [4.9, 0.8090169943749488], [4.91, 0.8443279255020143], [4.92, 0.8763066800438627], [4.93, 0.9048270524660186], [4.94, 0.9297764858882518], [4.95, 0.9510565162951538], [4.96, 0.9685831611286312], [4.97, 0.9822872507286879], [4.98, 0.9921147013144782], [4.99, 0.9980267284282716]]}, \"id\": \"el33438139943101996176\", \"plugins\": [{\"type\": \"reset\"}, {\"type\": \"zoom\", \"button\": true, \"enabled\": false}, {\"type\": \"boxzoom\", \"button\": true, \"enabled\": false}]});\n",
       "   }(mpld3);\n",
       "}else if(typeof define === \"function\" && define.amd){\n",
       "   // require.js is available: use it to load d3/mpld3\n",
       "   require.config({paths: {d3: \"https://d3js.org/d3.v5\"}});\n",
       "   require([\"d3\"], function(d3){\n",
       "      window.d3 = d3;\n",
       "      mpld3_load_lib(\"https://mpld3.github.io/js/mpld3.v0.5.1.js\", function(){\n",
       "         \n",
       "         mpld3.draw_figure(\"fig_el334381399431019961762082032733\", {\"width\": 432.0, \"height\": 288.0, \"axes\": [{\"bbox\": [0.125, 0.125, 0.775, 0.755], \"xlim\": [-0.24950000000000003, 5.2395000000000005], \"ylim\": [-2.0, 2.0], \"xdomain\": [-0.24950000000000003, 5.2395000000000005], \"ydomain\": [-2.0, 2.0], \"xscale\": \"linear\", \"yscale\": \"linear\", \"axes\": [{\"position\": \"bottom\", \"nticks\": 8, \"tickvalues\": null, \"tickformat_formatter\": \"\", \"tickformat\": null, \"scale\": \"linear\", \"fontsize\": 10.0, \"grid\": {\"gridOn\": false}, \"visible\": true}, {\"position\": \"left\", \"nticks\": 9, \"tickvalues\": null, \"tickformat_formatter\": \"\", \"tickformat\": null, \"scale\": \"linear\", \"fontsize\": 10.0, \"grid\": {\"gridOn\": false}, \"visible\": true}], \"axesbg\": \"#FFFFFF\", \"axesbgalpha\": null, \"zoomable\": true, \"id\": \"el33438139943322321296\", \"lines\": [{\"data\": \"data01\", \"xindex\": 0, \"yindex\": 1, \"coordinates\": \"data\", \"id\": \"el33438139943793255184\", \"color\": \"#1F77B4\", \"linewidth\": 2.0, \"dasharray\": \"none\", \"alpha\": 1, \"zorder\": 2, \"drawstyle\": \"default\"}], \"paths\": [], \"markers\": [], \"texts\": [{\"text\": \"Un m\\u00e1ximo\\nlocal \", \"position\": [0.7, 1.12], \"coordinates\": \"data\", \"h_anchor\": \"start\", \"v_baseline\": \"auto\", \"rotation\": -0.0, \"fontsize\": 10.0, \"color\": \"#000000\", \"alpha\": 1, \"zorder\": 3, \"id\": \"el33438139943322301584\"}], \"collections\": [], \"images\": [], \"sharex\": [], \"sharey\": []}], \"data\": {\"data01\": [[0.0, 1.0], [0.01, 0.9980267284282716], [0.02, 0.9921147013144779], [0.03, 0.9822872507286887], [0.04, 0.9685831611286311], [0.05, 0.9510565162951535], [0.06, 0.9297764858882515], [0.07, 0.9048270524660195], [0.08, 0.8763066800438636], [0.09, 0.8443279255020151], [0.1, 0.8090169943749475], [0.11, 0.7705132427757893], [0.12, 0.7289686274214116], [0.13, 0.6845471059286886], [0.14, 0.6374239897486896], [0.15, 0.5877852522924731], [0.16, 0.5358267949789965], [0.17, 0.48175367410171516], [0.18, 0.42577929156507266], [0.19, 0.3681245526846781], [0.2, 0.30901699437494745], [0.21, 0.24868988716485496], [0.22, 0.18738131458572474], [0.23, 0.12533323356430426], [0.24, 0.06279051952931353], [0.25, 6.123233995736766e-17], [0.26, -0.0627905195293134], [0.27, -0.12533323356430437], [0.28, -0.18738131458572482], [0.29, -0.24868988716485463], [0.3, -0.30901699437494734], [0.31, -0.368124552684678], [0.32, -0.4257792915650727], [0.33, -0.48175367410171543], [0.34, -0.5358267949789969], [0.35000000000000003, -0.587785252292473], [0.36, -0.6374239897486897], [0.37, -0.6845471059286887], [0.38, -0.7289686274214113], [0.39, -0.7705132427757891], [0.4, -0.8090169943749473], [0.41000000000000003, -0.8443279255020151], [0.42, -0.8763066800438634], [0.43, -0.9048270524660194], [0.44, -0.9297764858882513], [0.45, -0.9510565162951535], [0.46, -0.9685831611286311], [0.47000000000000003, -0.9822872507286887], [0.48, -0.9921147013144778], [0.49, -0.9980267284282716], [0.5, -1.0], [0.51, -0.9980267284282716], [0.52, -0.9921147013144779], [0.53, -0.9822872507286886], [0.54, -0.9685831611286311], [0.55, -0.9510565162951535], [0.56, -0.9297764858882512], [0.5700000000000001, -0.9048270524660195], [0.58, -0.8763066800438637], [0.59, -0.8443279255020152], [0.6, -0.8090169943749476], [0.61, -0.7705132427757893], [0.62, -0.7289686274214116], [0.63, -0.684547105928689], [0.64, -0.6374239897486895], [0.65, -0.5877852522924732], [0.66, -0.5358267949789963], [0.67, -0.48175367410171527], [0.68, -0.42577929156507216], [0.6900000000000001, -0.3681245526846778], [0.7000000000000001, -0.30901699437494756], [0.71, -0.2486898871648553], [0.72, -0.18738131458572463], [0.73, -0.1253332335643046], [0.74, -0.06279051952931321], [0.75, -1.8369701987210297e-16], [0.76, 0.06279051952931283], [0.77, 0.12533323356430423], [0.78, 0.18738131458572427], [0.79, 0.24868988716485493], [0.8, 0.30901699437494723], [0.81, 0.36812455268467825], [0.8200000000000001, 0.4257792915650726], [0.8300000000000001, 0.4817536741017157], [0.84, 0.535826794978996], [0.85, 0.5877852522924729], [0.86, 0.6374239897486893], [0.87, 0.6845471059286886], [0.88, 0.7289686274214112], [0.89, 0.7705132427757894], [0.9, 0.8090169943749473], [0.91, 0.8443279255020153], [0.92, 0.8763066800438636], [0.93, 0.9048270524660197], [0.9400000000000001, 0.9297764858882515], [0.9500000000000001, 0.9510565162951535], [0.96, 0.968583161128631], [0.97, 0.9822872507286887], [0.98, 0.9921147013144778], [0.99, 0.9980267284282716], [1.0, 1.0], [1.01, 0.9980267284282716], [1.02, 0.9921147013144779], [1.03, 0.9822872507286887], [1.04, 0.9685831611286311], [1.05, 0.9510565162951536], [1.06, 0.9297764858882513], [1.07, 0.9048270524660196], [1.08, 0.8763066800438634], [1.09, 0.8443279255020151], [1.1, 0.809016994374947], [1.11, 0.770513242775789], [1.12, 0.728968627421411], [1.1300000000000001, 0.6845471059286884], [1.1400000000000001, 0.6374239897486896], [1.1500000000000001, 0.5877852522924727], [1.16, 0.5358267949789972], [1.17, 0.48175367410171616], [1.18, 0.42577929156507305], [1.19, 0.36812455268467875], [1.2, 0.30901699437494773], [1.21, 0.2486898871648554], [1.22, 0.18738131458572474], [1.23, 0.12533323356430473], [1.24, 0.06279051952931332], [1.25, 3.061616997868383e-16], [1.26, -0.06279051952931271], [1.27, -0.12533323356430412], [1.28, -0.18738131458572502], [1.29, -0.24868988716485482], [1.3, -0.3090169943749471], [1.31, -0.3681245526846773], [1.32, -0.4257792915650733], [1.33, -0.4817536741017156], [1.34, -0.5358267949789967], [1.35, -0.5877852522924729], [1.36, -0.6374239897486905], [1.37, -0.6845471059286892], [1.3800000000000001, -0.7289686274214118], [1.3900000000000001, -0.7705132427757893], [1.4000000000000001, -0.8090169943749472], [1.41, -0.8443279255020147], [1.42, -0.876306680043863], [1.43, -0.9048270524660189], [1.44, -0.9297764858882515], [1.45, -0.9510565162951534], [1.46, -0.968583161128631], [1.47, -0.9822872507286885], [1.48, -0.9921147013144779], [1.49, -0.9980267284282716], [1.5, -1.0], [1.51, -0.9980267284282716], [1.52, -0.992114701314478], [1.53, -0.9822872507286886], [1.54, -0.9685831611286311], [1.55, -0.9510565162951536], [1.56, -0.9297764858882517], [1.57, -0.9048270524660192], [1.58, -0.8763066800438635], [1.59, -0.8443279255020151], [1.6, -0.8090169943749477], [1.61, -0.7705132427757886], [1.62, -0.7289686274214111], [1.6300000000000001, -0.6845471059286884], [1.6400000000000001, -0.6374239897486897], [1.6500000000000001, -0.5877852522924735], [1.6600000000000001, -0.5358267949789958], [1.67, -0.48175367410171627], [1.68, -0.425779291565074], [1.69, -0.36812455268467803], [1.7, -0.30901699437494784], [1.71, -0.24868988716485554], [1.72, -0.18738131458572574], [1.73, -0.12533323356430395], [1.74, -0.06279051952931344], [1.75, -4.286263797015736e-16], [1.76, 0.0627905195293126], [1.77, 0.12533323356430312], [1.78, 0.1873813145857249], [1.79, 0.2486898871648547], [1.8, 0.309016994374947], [1.81, 0.3681245526846772], [1.82, 0.4257792915650732], [1.83, 0.4817536741017155], [1.84, 0.5358267949789965], [1.85, 0.5877852522924728], [1.86, 0.6374239897486904], [1.87, 0.6845471059286892], [1.8800000000000001, 0.7289686274214117], [1.8900000000000001, 0.7705132427757891], [1.9000000000000001, 0.8090169943749471], [1.9100000000000001, 0.8443279255020156], [1.92, 0.876306680043863], [1.93, 0.9048270524660189], [1.94, 0.9297764858882513], [1.95, 0.9510565162951534], [1.96, 0.968583161128631], [1.97, 0.9822872507286885], [1.98, 0.9921147013144779], [1.99, 0.9980267284282716], [2.0, 1.0], [2.0100000000000002, 0.9980267284282716], [2.02, 0.992114701314478], [2.0300000000000002, 0.9822872507286886], [2.04, 0.9685831611286312], [2.05, 0.9510565162951543], [2.06, 0.9297764858882517], [2.07, 0.90482705246602], [2.08, 0.8763066800438635], [2.09, 0.8443279255020161], [2.1, 0.8090169943749477], [2.11, 0.7705132427757898], [2.12, 0.7289686274214111], [2.13, 0.6845471059286898], [2.14, 0.6374239897486899], [2.15, 0.5877852522924736], [2.16, 0.5358267949789959], [2.17, 0.4817536741017164], [2.18, 0.4257792915650725], [2.19, 0.36812455268467814], [2.2, 0.30901699437494623], [2.21, 0.24868988716485566], [2.22, 0.18738131458572413], [2.23, 0.1253332335643041], [2.24, 0.06279051952931179], [2.25, 5.51091059616309e-16], [2.2600000000000002, -0.06279051952931425], [2.27, -0.12533323356430298], [2.2800000000000002, -0.18738131458572477], [2.29, -0.2486898871648546], [2.3000000000000003, -0.30901699437494856], [2.31, -0.3681245526846771], [2.32, -0.4257792915650715], [2.33, -0.4817536741017154], [2.34, -0.5358267949789949], [2.35, -0.5877852522924727], [2.36, -0.637423989748689], [2.37, -0.6845471059286891], [2.38, -0.7289686274214104], [2.39, -0.770513242775789], [2.4, -0.8090169943749471], [2.41, -0.8443279255020155], [2.42, -0.8763066800438629], [2.43, -0.9048270524660196], [2.44, -0.9297764858882513], [2.45, -0.951056516295154], [2.46, -0.9685831611286309], [2.47, -0.9822872507286887], [2.48, -0.9921147013144779], [2.49, -0.9980267284282717], [2.5, -1.0], [2.5100000000000002, -0.9980267284282716], [2.52, -0.992114701314478], [2.5300000000000002, -0.9822872507286886], [2.54, -0.9685831611286312], [2.5500000000000003, -0.9510565162951532], [2.56, -0.9297764858882511], [2.57, -0.9048270524660209], [2.58, -0.8763066800438636], [2.59, -0.8443279255020152], [2.6, -0.8090169943749478], [2.61, -0.7705132427757899], [2.62, -0.7289686274214124], [2.63, -0.68454710592869], [2.64, -0.6374239897486885], [2.65, -0.5877852522924751], [2.66, -0.535826794978996], [2.67, -0.48175367410171493], [2.68, -0.4257792915650726], [2.69, -0.36812455268467825], [2.7, -0.30901699437494806], [2.71, -0.24868988716485577], [2.72, -0.1873813145857225], [2.73, -0.12533323356430598], [2.74, -0.06279051952931192], [2.75, -2.4499125789312946e-15], [2.7600000000000002, 0.06279051952931412], [2.77, 0.12533323356430462], [2.7800000000000002, 0.18738131458572466], [2.79, 0.24868988716485446], [2.8000000000000003, 0.3090169943749468], [2.81, 0.368124552684677], [2.82, 0.4257792915650714], [2.83, 0.4817536741017137], [2.84, 0.5358267949789949], [2.85, 0.587785252292474], [2.86, 0.6374239897486875], [2.87, 0.684547105928689], [2.88, 0.7289686274214116], [2.89, 0.770513242775789], [2.9, 0.809016994374947], [2.91, 0.8443279255020145], [2.92, 0.8763066800438629], [2.93, 0.9048270524660202], [2.94, 0.9297764858882506], [2.95, 0.9510565162951539], [2.96, 0.9685831611286313], [2.97, 0.9822872507286887], [2.98, 0.9921147013144779], [2.99, 0.9980267284282716], [3.0, 1.0], [3.0100000000000002, 0.9980267284282714], [3.02, 0.992114701314478], [3.0300000000000002, 0.9822872507286884], [3.04, 0.9685831611286316], [3.0500000000000003, 0.9510565162951533], [3.06, 0.9297764858882511], [3.0700000000000003, 0.9048270524660194], [3.08, 0.8763066800438636], [3.09, 0.8443279255020153], [3.1, 0.8090169943749479], [3.11, 0.7705132427757899], [3.12, 0.7289686274214126], [3.13, 0.6845471059286901], [3.14, 0.6374239897486886], [3.15, 0.5877852522924751], [3.16, 0.5358267949789961], [3.17, 0.48175367410171505], [3.18, 0.4257792915650727], [3.19, 0.36812455268467836], [3.2, 0.3090169943749482], [3.21, 0.2486898871648559], [3.22, 0.1873813145857226], [3.23, 0.1253332335643061], [3.24, 0.06279051952931204], [3.25, -9.803364199544708e-16], [3.2600000000000002, -0.062790519529314], [3.27, -0.1253332335643045], [3.2800000000000002, -0.18738131458572455], [3.29, -0.24868988716485435], [3.3000000000000003, -0.3090169943749467], [3.31, -0.36812455268467686], [3.3200000000000003, -0.4257792915650745], [3.33, -0.4817536741017136], [3.34, -0.5358267949789948], [3.35, -0.5877852522924739], [3.36, -0.6374239897486874], [3.37, -0.6845471059286888], [3.38, -0.7289686274214114], [3.39, -0.7705132427757889], [3.4, -0.8090169943749469], [3.41, -0.8443279255020144], [3.42, -0.8763066800438628], [3.43, -0.9048270524660202], [3.44, -0.9297764858882506], [3.45, -0.9510565162951539], [3.46, -0.9685831611286313], [3.47, -0.9822872507286887], [3.48, -0.9921147013144778], [3.49, -0.9980267284282716], [3.5, -1.0], [3.5100000000000002, -0.9980267284282714], [3.52, -0.992114701314478], [3.5300000000000002, -0.9822872507286884], [3.54, -0.9685831611286317], [3.5500000000000003, -0.9510565162951533], [3.56, -0.9297764858882512], [3.5700000000000003, -0.9048270524660195], [3.58, -0.8763066800438637], [3.59, -0.8443279255020154], [3.6, -0.8090169943749479], [3.61, -0.77051324277579], [3.62, -0.7289686274214127], [3.63, -0.6845471059286901], [3.64, -0.6374239897486887], [3.65, -0.5877852522924752], [3.66, -0.5358267949789962], [3.67, -0.4817536741017151], [3.68, -0.4257792915650728], [3.69, -0.3681245526846785], [3.7, -0.3090169943749483], [3.71, -0.24868988716485602], [3.72, -0.18738131458572274], [3.73, -0.1253332335643062], [3.74, -0.06279051952931217], [3.75, -2.6948419387607653e-15], [3.7600000000000002, 0.06279051952931387], [3.77, 0.1253332335643044], [3.7800000000000002, 0.1873813145857244], [3.79, 0.24868988716485424], [3.8000000000000003, 0.30901699437494656], [3.81, 0.36812455268467675], [3.8200000000000003, 0.4257792915650744], [3.83, 0.4817536741017135], [3.84, 0.5358267949789947], [3.85, 0.5877852522924738], [3.86, 0.6374239897486873], [3.87, 0.6845471059286887], [3.88, 0.7289686274214113], [3.89, 0.7705132427757888], [3.9, 0.8090169943749469], [3.91, 0.8443279255020144], [3.92, 0.8763066800438628], [3.93, 0.9048270524660201], [3.94, 0.9297764858882506], [3.95, 0.9510565162951539], [3.96, 0.9685831611286312], [3.97, 0.9822872507286887], [3.98, 0.9921147013144778], [3.99, 0.9980267284282716], [4.0, 1.0], [4.01, 0.9980267284282717], [4.0200000000000005, 0.9921147013144775], [4.03, 0.9822872507286884], [4.04, 0.9685831611286317], [4.05, 0.9510565162951544], [4.0600000000000005, 0.9297764858882512], [4.07, 0.9048270524660195], [4.08, 0.8763066800438637], [4.09, 0.8443279255020154], [4.1, 0.8090169943749501], [4.11, 0.7705132427757878], [4.12, 0.7289686274214127], [4.13, 0.6845471059286902], [4.14, 0.6374239897486916], [4.15, 0.5877852522924725], [4.16, 0.5358267949789963], [4.17, 0.4817536741017152], [4.18, 0.42577929156507616], [4.19, 0.36812455268467525], [4.2, 0.3090169943749484], [4.21, 0.24868988716485613], [4.22, 0.18738131458572635], [4.23, 0.12533323356430282], [4.24, 0.06279051952931229], [4.25, -7.354070601250002e-16], [4.26, -0.06279051952931021], [4.2700000000000005, -0.12533323356430778], [4.28, -0.1873813145857243], [4.29, -0.2486898871648541], [4.3, -0.3090169943749464], [4.3100000000000005, -0.36812455268468], [4.32, -0.42577929156507427], [4.33, -0.48175367410171344], [4.34, -0.5358267949789945], [4.3500000000000005, -0.5877852522924737], [4.36, -0.63742398974869], [4.37, -0.6845471059286887], [4.38, -0.7289686274214113], [4.39, -0.7705132427757865], [4.4, -0.8090169943749489], [4.41, -0.8443279255020143], [4.42, -0.8763066800438627], [4.43, -0.9048270524660186], [4.44, -0.9297764858882518], [4.45, -0.9510565162951538], [4.46, -0.9685831611286312], [4.47, -0.982287250728688], [4.48, -0.9921147013144782], [4.49, -0.9980267284282716], [4.5, -1.0], [4.51, -0.9980267284282717], [4.5200000000000005, -0.9921147013144777], [4.53, -0.9822872507286884], [4.54, -0.9685831611286317], [4.55, -0.9510565162951544], [4.5600000000000005, -0.9297764858882513], [4.57, -0.9048270524660196], [4.58, -0.8763066800438638], [4.59, -0.8443279255020155], [4.6000000000000005, -0.809016994374946], [4.61, -0.7705132427757879], [4.62, -0.7289686274214128], [4.63, -0.6845471059286903], [4.64, -0.6374239897486916], [4.65, -0.5877852522924726], [4.66, -0.5358267949789964], [4.67, -0.4817536741017153], [4.68, -0.42577929156507627], [4.69, -0.3681245526846754], [4.7, -0.3090169943749485], [4.71, -0.24868988716485624], [4.72, -0.18738131458572646], [4.73, -0.12533323356430293], [4.74, -0.0627905195293124], [4.75, -2.939771298590236e-15], [4.76, 0.06279051952931008], [4.7700000000000005, 0.12533323356430767], [4.78, 0.18738131458572418], [4.79, 0.248689887164854], [4.8, 0.3090169943749463], [4.8100000000000005, 0.36812455268467986], [4.82, 0.42577929156507416], [4.83, 0.4817536741017133], [4.84, 0.5358267949789944], [4.8500000000000005, 0.5877852522924736], [4.86, 0.6374239897486899], [4.87, 0.6845471059286886], [4.88, 0.7289686274214112], [4.89, 0.7705132427757865], [4.9, 0.8090169943749488], [4.91, 0.8443279255020143], [4.92, 0.8763066800438627], [4.93, 0.9048270524660186], [4.94, 0.9297764858882518], [4.95, 0.9510565162951538], [4.96, 0.9685831611286312], [4.97, 0.9822872507286879], [4.98, 0.9921147013144782], [4.99, 0.9980267284282716]]}, \"id\": \"el33438139943101996176\", \"plugins\": [{\"type\": \"reset\"}, {\"type\": \"zoom\", \"button\": true, \"enabled\": false}, {\"type\": \"boxzoom\", \"button\": true, \"enabled\": false}]});\n",
       "      });\n",
       "    });\n",
       "}else{\n",
       "    // require.js not available: dynamically load d3 & mpld3\n",
       "    mpld3_load_lib(\"https://d3js.org/d3.v5.js\", function(){\n",
       "         mpld3_load_lib(\"https://mpld3.github.io/js/mpld3.v0.5.1.js\", function(){\n",
       "                 \n",
       "                 mpld3.draw_figure(\"fig_el334381399431019961762082032733\", {\"width\": 432.0, \"height\": 288.0, \"axes\": [{\"bbox\": [0.125, 0.125, 0.775, 0.755], \"xlim\": [-0.24950000000000003, 5.2395000000000005], \"ylim\": [-2.0, 2.0], \"xdomain\": [-0.24950000000000003, 5.2395000000000005], \"ydomain\": [-2.0, 2.0], \"xscale\": \"linear\", \"yscale\": \"linear\", \"axes\": [{\"position\": \"bottom\", \"nticks\": 8, \"tickvalues\": null, \"tickformat_formatter\": \"\", \"tickformat\": null, \"scale\": \"linear\", \"fontsize\": 10.0, \"grid\": {\"gridOn\": false}, \"visible\": true}, {\"position\": \"left\", \"nticks\": 9, \"tickvalues\": null, \"tickformat_formatter\": \"\", \"tickformat\": null, \"scale\": \"linear\", \"fontsize\": 10.0, \"grid\": {\"gridOn\": false}, \"visible\": true}], \"axesbg\": \"#FFFFFF\", \"axesbgalpha\": null, \"zoomable\": true, \"id\": \"el33438139943322321296\", \"lines\": [{\"data\": \"data01\", \"xindex\": 0, \"yindex\": 1, \"coordinates\": \"data\", \"id\": \"el33438139943793255184\", \"color\": \"#1F77B4\", \"linewidth\": 2.0, \"dasharray\": \"none\", \"alpha\": 1, \"zorder\": 2, \"drawstyle\": \"default\"}], \"paths\": [], \"markers\": [], \"texts\": [{\"text\": \"Un m\\u00e1ximo\\nlocal \", \"position\": [0.7, 1.12], \"coordinates\": \"data\", \"h_anchor\": \"start\", \"v_baseline\": \"auto\", \"rotation\": -0.0, \"fontsize\": 10.0, \"color\": \"#000000\", \"alpha\": 1, \"zorder\": 3, \"id\": \"el33438139943322301584\"}], \"collections\": [], \"images\": [], \"sharex\": [], \"sharey\": []}], \"data\": {\"data01\": [[0.0, 1.0], [0.01, 0.9980267284282716], [0.02, 0.9921147013144779], [0.03, 0.9822872507286887], [0.04, 0.9685831611286311], [0.05, 0.9510565162951535], [0.06, 0.9297764858882515], [0.07, 0.9048270524660195], [0.08, 0.8763066800438636], [0.09, 0.8443279255020151], [0.1, 0.8090169943749475], [0.11, 0.7705132427757893], [0.12, 0.7289686274214116], [0.13, 0.6845471059286886], [0.14, 0.6374239897486896], [0.15, 0.5877852522924731], [0.16, 0.5358267949789965], [0.17, 0.48175367410171516], [0.18, 0.42577929156507266], [0.19, 0.3681245526846781], [0.2, 0.30901699437494745], [0.21, 0.24868988716485496], [0.22, 0.18738131458572474], [0.23, 0.12533323356430426], [0.24, 0.06279051952931353], [0.25, 6.123233995736766e-17], [0.26, -0.0627905195293134], [0.27, -0.12533323356430437], [0.28, -0.18738131458572482], [0.29, -0.24868988716485463], [0.3, -0.30901699437494734], [0.31, -0.368124552684678], [0.32, -0.4257792915650727], [0.33, -0.48175367410171543], [0.34, -0.5358267949789969], [0.35000000000000003, -0.587785252292473], [0.36, -0.6374239897486897], [0.37, -0.6845471059286887], [0.38, -0.7289686274214113], [0.39, -0.7705132427757891], [0.4, -0.8090169943749473], [0.41000000000000003, -0.8443279255020151], [0.42, -0.8763066800438634], [0.43, -0.9048270524660194], [0.44, -0.9297764858882513], [0.45, -0.9510565162951535], [0.46, -0.9685831611286311], [0.47000000000000003, -0.9822872507286887], [0.48, -0.9921147013144778], [0.49, -0.9980267284282716], [0.5, -1.0], [0.51, -0.9980267284282716], [0.52, -0.9921147013144779], [0.53, -0.9822872507286886], [0.54, -0.9685831611286311], [0.55, -0.9510565162951535], [0.56, -0.9297764858882512], [0.5700000000000001, -0.9048270524660195], [0.58, -0.8763066800438637], [0.59, -0.8443279255020152], [0.6, -0.8090169943749476], [0.61, -0.7705132427757893], [0.62, -0.7289686274214116], [0.63, -0.684547105928689], [0.64, -0.6374239897486895], [0.65, -0.5877852522924732], [0.66, -0.5358267949789963], [0.67, -0.48175367410171527], [0.68, -0.42577929156507216], [0.6900000000000001, -0.3681245526846778], [0.7000000000000001, -0.30901699437494756], [0.71, -0.2486898871648553], [0.72, -0.18738131458572463], [0.73, -0.1253332335643046], [0.74, -0.06279051952931321], [0.75, -1.8369701987210297e-16], [0.76, 0.06279051952931283], [0.77, 0.12533323356430423], [0.78, 0.18738131458572427], [0.79, 0.24868988716485493], [0.8, 0.30901699437494723], [0.81, 0.36812455268467825], [0.8200000000000001, 0.4257792915650726], [0.8300000000000001, 0.4817536741017157], [0.84, 0.535826794978996], [0.85, 0.5877852522924729], [0.86, 0.6374239897486893], [0.87, 0.6845471059286886], [0.88, 0.7289686274214112], [0.89, 0.7705132427757894], [0.9, 0.8090169943749473], [0.91, 0.8443279255020153], [0.92, 0.8763066800438636], [0.93, 0.9048270524660197], [0.9400000000000001, 0.9297764858882515], [0.9500000000000001, 0.9510565162951535], [0.96, 0.968583161128631], [0.97, 0.9822872507286887], [0.98, 0.9921147013144778], [0.99, 0.9980267284282716], [1.0, 1.0], [1.01, 0.9980267284282716], [1.02, 0.9921147013144779], [1.03, 0.9822872507286887], [1.04, 0.9685831611286311], [1.05, 0.9510565162951536], [1.06, 0.9297764858882513], [1.07, 0.9048270524660196], [1.08, 0.8763066800438634], [1.09, 0.8443279255020151], [1.1, 0.809016994374947], [1.11, 0.770513242775789], [1.12, 0.728968627421411], [1.1300000000000001, 0.6845471059286884], [1.1400000000000001, 0.6374239897486896], [1.1500000000000001, 0.5877852522924727], [1.16, 0.5358267949789972], [1.17, 0.48175367410171616], [1.18, 0.42577929156507305], [1.19, 0.36812455268467875], [1.2, 0.30901699437494773], [1.21, 0.2486898871648554], [1.22, 0.18738131458572474], [1.23, 0.12533323356430473], [1.24, 0.06279051952931332], [1.25, 3.061616997868383e-16], [1.26, -0.06279051952931271], [1.27, -0.12533323356430412], [1.28, -0.18738131458572502], [1.29, -0.24868988716485482], [1.3, -0.3090169943749471], [1.31, -0.3681245526846773], [1.32, -0.4257792915650733], [1.33, -0.4817536741017156], [1.34, -0.5358267949789967], [1.35, -0.5877852522924729], [1.36, -0.6374239897486905], [1.37, -0.6845471059286892], [1.3800000000000001, -0.7289686274214118], [1.3900000000000001, -0.7705132427757893], [1.4000000000000001, -0.8090169943749472], [1.41, -0.8443279255020147], [1.42, -0.876306680043863], [1.43, -0.9048270524660189], [1.44, -0.9297764858882515], [1.45, -0.9510565162951534], [1.46, -0.968583161128631], [1.47, -0.9822872507286885], [1.48, -0.9921147013144779], [1.49, -0.9980267284282716], [1.5, -1.0], [1.51, -0.9980267284282716], [1.52, -0.992114701314478], [1.53, -0.9822872507286886], [1.54, -0.9685831611286311], [1.55, -0.9510565162951536], [1.56, -0.9297764858882517], [1.57, -0.9048270524660192], [1.58, -0.8763066800438635], [1.59, -0.8443279255020151], [1.6, -0.8090169943749477], [1.61, -0.7705132427757886], [1.62, -0.7289686274214111], [1.6300000000000001, -0.6845471059286884], [1.6400000000000001, -0.6374239897486897], [1.6500000000000001, -0.5877852522924735], [1.6600000000000001, -0.5358267949789958], [1.67, -0.48175367410171627], [1.68, -0.425779291565074], [1.69, -0.36812455268467803], [1.7, -0.30901699437494784], [1.71, -0.24868988716485554], [1.72, -0.18738131458572574], [1.73, -0.12533323356430395], [1.74, -0.06279051952931344], [1.75, -4.286263797015736e-16], [1.76, 0.0627905195293126], [1.77, 0.12533323356430312], [1.78, 0.1873813145857249], [1.79, 0.2486898871648547], [1.8, 0.309016994374947], [1.81, 0.3681245526846772], [1.82, 0.4257792915650732], [1.83, 0.4817536741017155], [1.84, 0.5358267949789965], [1.85, 0.5877852522924728], [1.86, 0.6374239897486904], [1.87, 0.6845471059286892], [1.8800000000000001, 0.7289686274214117], [1.8900000000000001, 0.7705132427757891], [1.9000000000000001, 0.8090169943749471], [1.9100000000000001, 0.8443279255020156], [1.92, 0.876306680043863], [1.93, 0.9048270524660189], [1.94, 0.9297764858882513], [1.95, 0.9510565162951534], [1.96, 0.968583161128631], [1.97, 0.9822872507286885], [1.98, 0.9921147013144779], [1.99, 0.9980267284282716], [2.0, 1.0], [2.0100000000000002, 0.9980267284282716], [2.02, 0.992114701314478], [2.0300000000000002, 0.9822872507286886], [2.04, 0.9685831611286312], [2.05, 0.9510565162951543], [2.06, 0.9297764858882517], [2.07, 0.90482705246602], [2.08, 0.8763066800438635], [2.09, 0.8443279255020161], [2.1, 0.8090169943749477], [2.11, 0.7705132427757898], [2.12, 0.7289686274214111], [2.13, 0.6845471059286898], [2.14, 0.6374239897486899], [2.15, 0.5877852522924736], [2.16, 0.5358267949789959], [2.17, 0.4817536741017164], [2.18, 0.4257792915650725], [2.19, 0.36812455268467814], [2.2, 0.30901699437494623], [2.21, 0.24868988716485566], [2.22, 0.18738131458572413], [2.23, 0.1253332335643041], [2.24, 0.06279051952931179], [2.25, 5.51091059616309e-16], [2.2600000000000002, -0.06279051952931425], [2.27, -0.12533323356430298], [2.2800000000000002, -0.18738131458572477], [2.29, -0.2486898871648546], [2.3000000000000003, -0.30901699437494856], [2.31, -0.3681245526846771], [2.32, -0.4257792915650715], [2.33, -0.4817536741017154], [2.34, -0.5358267949789949], [2.35, -0.5877852522924727], [2.36, -0.637423989748689], [2.37, -0.6845471059286891], [2.38, -0.7289686274214104], [2.39, -0.770513242775789], [2.4, -0.8090169943749471], [2.41, -0.8443279255020155], [2.42, -0.8763066800438629], [2.43, -0.9048270524660196], [2.44, -0.9297764858882513], [2.45, -0.951056516295154], [2.46, -0.9685831611286309], [2.47, -0.9822872507286887], [2.48, -0.9921147013144779], [2.49, -0.9980267284282717], [2.5, -1.0], [2.5100000000000002, -0.9980267284282716], [2.52, -0.992114701314478], [2.5300000000000002, -0.9822872507286886], [2.54, -0.9685831611286312], [2.5500000000000003, -0.9510565162951532], [2.56, -0.9297764858882511], [2.57, -0.9048270524660209], [2.58, -0.8763066800438636], [2.59, -0.8443279255020152], [2.6, -0.8090169943749478], [2.61, -0.7705132427757899], [2.62, -0.7289686274214124], [2.63, -0.68454710592869], [2.64, -0.6374239897486885], [2.65, -0.5877852522924751], [2.66, -0.535826794978996], [2.67, -0.48175367410171493], [2.68, -0.4257792915650726], [2.69, -0.36812455268467825], [2.7, -0.30901699437494806], [2.71, -0.24868988716485577], [2.72, -0.1873813145857225], [2.73, -0.12533323356430598], [2.74, -0.06279051952931192], [2.75, -2.4499125789312946e-15], [2.7600000000000002, 0.06279051952931412], [2.77, 0.12533323356430462], [2.7800000000000002, 0.18738131458572466], [2.79, 0.24868988716485446], [2.8000000000000003, 0.3090169943749468], [2.81, 0.368124552684677], [2.82, 0.4257792915650714], [2.83, 0.4817536741017137], [2.84, 0.5358267949789949], [2.85, 0.587785252292474], [2.86, 0.6374239897486875], [2.87, 0.684547105928689], [2.88, 0.7289686274214116], [2.89, 0.770513242775789], [2.9, 0.809016994374947], [2.91, 0.8443279255020145], [2.92, 0.8763066800438629], [2.93, 0.9048270524660202], [2.94, 0.9297764858882506], [2.95, 0.9510565162951539], [2.96, 0.9685831611286313], [2.97, 0.9822872507286887], [2.98, 0.9921147013144779], [2.99, 0.9980267284282716], [3.0, 1.0], [3.0100000000000002, 0.9980267284282714], [3.02, 0.992114701314478], [3.0300000000000002, 0.9822872507286884], [3.04, 0.9685831611286316], [3.0500000000000003, 0.9510565162951533], [3.06, 0.9297764858882511], [3.0700000000000003, 0.9048270524660194], [3.08, 0.8763066800438636], [3.09, 0.8443279255020153], [3.1, 0.8090169943749479], [3.11, 0.7705132427757899], [3.12, 0.7289686274214126], [3.13, 0.6845471059286901], [3.14, 0.6374239897486886], [3.15, 0.5877852522924751], [3.16, 0.5358267949789961], [3.17, 0.48175367410171505], [3.18, 0.4257792915650727], [3.19, 0.36812455268467836], [3.2, 0.3090169943749482], [3.21, 0.2486898871648559], [3.22, 0.1873813145857226], [3.23, 0.1253332335643061], [3.24, 0.06279051952931204], [3.25, -9.803364199544708e-16], [3.2600000000000002, -0.062790519529314], [3.27, -0.1253332335643045], [3.2800000000000002, -0.18738131458572455], [3.29, -0.24868988716485435], [3.3000000000000003, -0.3090169943749467], [3.31, -0.36812455268467686], [3.3200000000000003, -0.4257792915650745], [3.33, -0.4817536741017136], [3.34, -0.5358267949789948], [3.35, -0.5877852522924739], [3.36, -0.6374239897486874], [3.37, -0.6845471059286888], [3.38, -0.7289686274214114], [3.39, -0.7705132427757889], [3.4, -0.8090169943749469], [3.41, -0.8443279255020144], [3.42, -0.8763066800438628], [3.43, -0.9048270524660202], [3.44, -0.9297764858882506], [3.45, -0.9510565162951539], [3.46, -0.9685831611286313], [3.47, -0.9822872507286887], [3.48, -0.9921147013144778], [3.49, -0.9980267284282716], [3.5, -1.0], [3.5100000000000002, -0.9980267284282714], [3.52, -0.992114701314478], [3.5300000000000002, -0.9822872507286884], [3.54, -0.9685831611286317], [3.5500000000000003, -0.9510565162951533], [3.56, -0.9297764858882512], [3.5700000000000003, -0.9048270524660195], [3.58, -0.8763066800438637], [3.59, -0.8443279255020154], [3.6, -0.8090169943749479], [3.61, -0.77051324277579], [3.62, -0.7289686274214127], [3.63, -0.6845471059286901], [3.64, -0.6374239897486887], [3.65, -0.5877852522924752], [3.66, -0.5358267949789962], [3.67, -0.4817536741017151], [3.68, -0.4257792915650728], [3.69, -0.3681245526846785], [3.7, -0.3090169943749483], [3.71, -0.24868988716485602], [3.72, -0.18738131458572274], [3.73, -0.1253332335643062], [3.74, -0.06279051952931217], [3.75, -2.6948419387607653e-15], [3.7600000000000002, 0.06279051952931387], [3.77, 0.1253332335643044], [3.7800000000000002, 0.1873813145857244], [3.79, 0.24868988716485424], [3.8000000000000003, 0.30901699437494656], [3.81, 0.36812455268467675], [3.8200000000000003, 0.4257792915650744], [3.83, 0.4817536741017135], [3.84, 0.5358267949789947], [3.85, 0.5877852522924738], [3.86, 0.6374239897486873], [3.87, 0.6845471059286887], [3.88, 0.7289686274214113], [3.89, 0.7705132427757888], [3.9, 0.8090169943749469], [3.91, 0.8443279255020144], [3.92, 0.8763066800438628], [3.93, 0.9048270524660201], [3.94, 0.9297764858882506], [3.95, 0.9510565162951539], [3.96, 0.9685831611286312], [3.97, 0.9822872507286887], [3.98, 0.9921147013144778], [3.99, 0.9980267284282716], [4.0, 1.0], [4.01, 0.9980267284282717], [4.0200000000000005, 0.9921147013144775], [4.03, 0.9822872507286884], [4.04, 0.9685831611286317], [4.05, 0.9510565162951544], [4.0600000000000005, 0.9297764858882512], [4.07, 0.9048270524660195], [4.08, 0.8763066800438637], [4.09, 0.8443279255020154], [4.1, 0.8090169943749501], [4.11, 0.7705132427757878], [4.12, 0.7289686274214127], [4.13, 0.6845471059286902], [4.14, 0.6374239897486916], [4.15, 0.5877852522924725], [4.16, 0.5358267949789963], [4.17, 0.4817536741017152], [4.18, 0.42577929156507616], [4.19, 0.36812455268467525], [4.2, 0.3090169943749484], [4.21, 0.24868988716485613], [4.22, 0.18738131458572635], [4.23, 0.12533323356430282], [4.24, 0.06279051952931229], [4.25, -7.354070601250002e-16], [4.26, -0.06279051952931021], [4.2700000000000005, -0.12533323356430778], [4.28, -0.1873813145857243], [4.29, -0.2486898871648541], [4.3, -0.3090169943749464], [4.3100000000000005, -0.36812455268468], [4.32, -0.42577929156507427], [4.33, -0.48175367410171344], [4.34, -0.5358267949789945], [4.3500000000000005, -0.5877852522924737], [4.36, -0.63742398974869], [4.37, -0.6845471059286887], [4.38, -0.7289686274214113], [4.39, -0.7705132427757865], [4.4, -0.8090169943749489], [4.41, -0.8443279255020143], [4.42, -0.8763066800438627], [4.43, -0.9048270524660186], [4.44, -0.9297764858882518], [4.45, -0.9510565162951538], [4.46, -0.9685831611286312], [4.47, -0.982287250728688], [4.48, -0.9921147013144782], [4.49, -0.9980267284282716], [4.5, -1.0], [4.51, -0.9980267284282717], [4.5200000000000005, -0.9921147013144777], [4.53, -0.9822872507286884], [4.54, -0.9685831611286317], [4.55, -0.9510565162951544], [4.5600000000000005, -0.9297764858882513], [4.57, -0.9048270524660196], [4.58, -0.8763066800438638], [4.59, -0.8443279255020155], [4.6000000000000005, -0.809016994374946], [4.61, -0.7705132427757879], [4.62, -0.7289686274214128], [4.63, -0.6845471059286903], [4.64, -0.6374239897486916], [4.65, -0.5877852522924726], [4.66, -0.5358267949789964], [4.67, -0.4817536741017153], [4.68, -0.42577929156507627], [4.69, -0.3681245526846754], [4.7, -0.3090169943749485], [4.71, -0.24868988716485624], [4.72, -0.18738131458572646], [4.73, -0.12533323356430293], [4.74, -0.0627905195293124], [4.75, -2.939771298590236e-15], [4.76, 0.06279051952931008], [4.7700000000000005, 0.12533323356430767], [4.78, 0.18738131458572418], [4.79, 0.248689887164854], [4.8, 0.3090169943749463], [4.8100000000000005, 0.36812455268467986], [4.82, 0.42577929156507416], [4.83, 0.4817536741017133], [4.84, 0.5358267949789944], [4.8500000000000005, 0.5877852522924736], [4.86, 0.6374239897486899], [4.87, 0.6845471059286886], [4.88, 0.7289686274214112], [4.89, 0.7705132427757865], [4.9, 0.8090169943749488], [4.91, 0.8443279255020143], [4.92, 0.8763066800438627], [4.93, 0.9048270524660186], [4.94, 0.9297764858882518], [4.95, 0.9510565162951538], [4.96, 0.9685831611286312], [4.97, 0.9822872507286879], [4.98, 0.9921147013144782], [4.99, 0.9980267284282716]]}, \"id\": \"el33438139943101996176\", \"plugins\": [{\"type\": \"reset\"}, {\"type\": \"zoom\", \"button\": true, \"enabled\": false}, {\"type\": \"boxzoom\", \"button\": true, \"enabled\": false}]});\n",
       "            })\n",
       "         });\n",
       "}\n",
       "</script>"
      ],
      "text/plain": [
       "<Figure size 432x288 with 1 Axes>"
      ]
     },
     "metadata": {
      "needs_background": "light"
     },
     "output_type": "display_data"
    }
   ],
   "source": [
    "import matplotlib\n",
    "import matplotlib.pyplot as plt\n",
    "import numpy as np\n",
    "import mpld3\n",
    "mpld3.enable_notebook()\n",
    "ax = plt.subplot(111)\n",
    "t = np.arange(0.0, 5.0, 0.01)\n",
    "s = np.cos(2*np.pi*t)\n",
    "line, = plt.plot(t, s, lw=2)\n",
    "plt.text(0.7,1.12,'Un máximo\\nlocal ')\n",
    "plt.ylim(-2, 2)\n",
    "plt.show()"
   ]
  },
  {
   "cell_type": "markdown",
   "metadata": {},
   "source": [
    "## Un pendiente de la clase anterior\n",
    "\n",
    "Hubo problemas para ingresar matrices, aquí un código para lograrlo:"
   ]
  },
  {
   "cell_type": "code",
   "execution_count": 2,
   "metadata": {},
   "outputs": [],
   "source": [
    "import ipywidgets as widgets\n",
    "from ipywidgets import interact, Layout\n"
   ]
  },
  {
   "cell_type": "code",
   "execution_count": 3,
   "metadata": {},
   "outputs": [
    {
     "data": {
      "application/vnd.jupyter.widget-view+json": {
       "model_id": "266efc3b51264f5792a8c531eb45e3fe",
       "version_major": 2,
       "version_minor": 0
      },
      "text/plain": [
       "Textarea(value='Hello World', description='Una descripción muy laaaarga:', placeholder='Type something')"
      ]
     },
     "metadata": {},
     "output_type": "display_data"
    }
   ],
   "source": [
    "widgets.Textarea(\n",
    "    value='Hello World',\n",
    "    placeholder='Type something',\n",
    "    description='Una descripción muy laaaarga:')"
   ]
  },
  {
   "cell_type": "code",
   "execution_count": 4,
   "metadata": {},
   "outputs": [
    {
     "data": {
      "application/vnd.jupyter.widget-view+json": {
       "model_id": "268edc258a484fd7818f0a44d27a3689",
       "version_major": 2,
       "version_minor": 0
      },
      "text/plain": [
       "Textarea(value='Hello World', description='Una descripción muy laaaarga:', layout=Layout(height='80px', width=…"
      ]
     },
     "metadata": {},
     "output_type": "display_data"
    }
   ],
   "source": [
    "style = {'description_width': 'initial'}\n",
    "l = Layout( height='80px', width='auto')\n",
    "widgets.Textarea(\n",
    "    value='Hello World',\n",
    "    placeholder='Type something',\n",
    "    description='Una descripción muy laaaarga:',\n",
    "    style=style,\n",
    "    layout=l)"
   ]
  },
  {
   "cell_type": "code",
   "execution_count": 5,
   "metadata": {},
   "outputs": [
    {
     "data": {
      "application/vnd.jupyter.widget-view+json": {
       "model_id": "680144a8be404dfb82b14c91e3f1aad8",
       "version_major": 2,
       "version_minor": 0
      },
      "text/plain": [
       "interactive(children=(Textarea(value='1 2 3', description='Una descripción muy laaaarga:', layout=Layout(heigh…"
      ]
     },
     "metadata": {},
     "output_type": "display_data"
    },
    {
     "data": {
      "text/plain": [
       "<function __main__.convertidodematrices(A)>"
      ]
     },
     "execution_count": 5,
     "metadata": {},
     "output_type": "execute_result"
    }
   ],
   "source": [
    "style = {'description_width': 'initial'}\n",
    "l = Layout( height='80px', width='auto')\n",
    "def convertidodematrices(A):\n",
    "    B=A.split(\"\\n\")\n",
    "    Matriz=[]\n",
    "    for i in B:\n",
    "        Matriz.append([int(j) for j in i.split()])\n",
    "    print(Matriz)\n",
    "    \n",
    "    \n",
    "A=widgets.Textarea(\n",
    "    value='1 2 3',\n",
    "    placeholder='Type something',\n",
    "    description='Una descripción muy laaaarga:',\n",
    "    style=style,\n",
    "    layout=l)\n",
    "\n",
    "interact(convertidodematrices,A=A)"
   ]
  }
 ],
 "metadata": {
  "kernelspec": {
   "display_name": "Python 3",
   "language": "python",
   "name": "python3"
  },
  "language_info": {
   "codemirror_mode": {
    "name": "ipython",
    "version": 3
   },
   "file_extension": ".py",
   "mimetype": "text/x-python",
   "name": "python",
   "nbconvert_exporter": "python",
   "pygments_lexer": "ipython3",
   "version": "3.7.6"
  },
  "toc": {
   "base_numbering": 1,
   "nav_menu": {},
   "number_sections": true,
   "sideBar": false,
   "skip_h1_title": false,
   "title_cell": "Matplotlib - Gráficos en Python",
   "title_sidebar": "Cuaderno Matplotlib",
   "toc_cell": true,
   "toc_position": {
    "height": "calc(100% - 180px)",
    "left": "10px",
    "top": "150px",
    "width": "165px"
   },
   "toc_section_display": false,
   "toc_window_display": false
  }
 },
 "nbformat": 4,
 "nbformat_minor": 4
}
